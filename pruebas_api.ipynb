{
 "cells": [
  {
   "cell_type": "markdown",
   "metadata": {},
   "source": [
    "# API - Project"
   ]
  },
  {
   "cell_type": "code",
   "execution_count": 22,
   "metadata": {},
   "outputs": [],
   "source": [
    "import requests"
   ]
  },
  {
   "cell_type": "markdown",
   "metadata": {},
   "source": [
    "## Pruebas funciones POST"
   ]
  },
  {
   "cell_type": "markdown",
   "metadata": {},
   "source": [
    "#### Creo personaje:"
   ]
  },
  {
   "cell_type": "code",
   "execution_count": 100,
   "metadata": {},
   "outputs": [],
   "source": [
    "dataName = {'name':'pruebaUser'}"
   ]
  },
  {
   "cell_type": "code",
   "execution_count": 101,
   "metadata": {},
   "outputs": [],
   "source": [
    "urlName = \"http://localhost:2020/addUser/\""
   ]
  },
  {
   "cell_type": "code",
   "execution_count": 102,
   "metadata": {},
   "outputs": [
    {
     "data": {
      "text/plain": [
       "\"Usuario 'Marta' creado!\""
      ]
     },
     "execution_count": 102,
     "metadata": {},
     "output_type": "execute_result"
    }
   ],
   "source": [
    "requests.post(urlName,data=dataName).text"
   ]
  },
  {
   "cell_type": "markdown",
   "metadata": {},
   "source": [
    "#### Creo escena:"
   ]
  },
  {
   "cell_type": "code",
   "execution_count": 161,
   "metadata": {},
   "outputs": [],
   "source": [
    "dataScene = {'scene':'pruebaScene',\n",
    "            'names':['pruebaUser']\n",
    "            }"
   ]
  },
  {
   "cell_type": "code",
   "execution_count": 162,
   "metadata": {},
   "outputs": [],
   "source": [
    "urlScene = \"http://localhost:2020/addScene/\""
   ]
  },
  {
   "cell_type": "code",
   "execution_count": 172,
   "metadata": {},
   "outputs": [
    {
     "data": {
      "text/plain": [
       "\"Escena 'HEADQUARTERS' creada!\""
      ]
     },
     "execution_count": 172,
     "metadata": {},
     "output_type": "execute_result"
    }
   ],
   "source": [
    "requests.post(urlScene, data=dataScene).text"
   ]
  },
  {
   "cell_type": "markdown",
   "metadata": {},
   "source": [
    "#### Creo diálogo:"
   ]
  },
  {
   "cell_type": "code",
   "execution_count": 251,
   "metadata": {},
   "outputs": [],
   "source": [
    "dataDialog = {'name':'pruebaUser',\n",
    "                'scene':'pruebaScene',\n",
    "                'dialog':'Mensaje de prueba'\n",
    "            }"
   ]
  },
  {
   "cell_type": "code",
   "execution_count": 252,
   "metadata": {},
   "outputs": [],
   "source": [
    "urlDialog = \"http://localhost:2020/addDialog/\""
   ]
  },
  {
   "cell_type": "code",
   "execution_count": 253,
   "metadata": {},
   "outputs": [
    {
     "data": {
      "text/plain": [
       "'Dialogo guardado!'"
      ]
     },
     "execution_count": 253,
     "metadata": {},
     "output_type": "execute_result"
    }
   ],
   "source": [
    "requests.post(urlDialog, data=dataDialog).text"
   ]
  },
  {
   "cell_type": "markdown",
   "metadata": {},
   "source": [
    "## Creación de todos los personajes:"
   ]
  },
  {
   "cell_type": "code",
   "execution_count": 220,
   "metadata": {},
   "outputs": [],
   "source": [
    "characters = [\"joy\", \"mom\", \"dad\", \"sadness\", \"fear\", \"disgust\", \"riley\", \"anger\", \"mum-sadness\", \"mum-anger\", \n",
    "              \"mum-joy\", \"mum-fear\", \"dad-anger\", \"dad-fear\", \"mum-disgust\", \"male-forgetter\", \"bing-bong\"]"
   ]
  },
  {
   "cell_type": "code",
   "execution_count": 221,
   "metadata": {},
   "outputs": [],
   "source": [
    "for character in characters:\n",
    "    dataName = {'name': character}\n",
    "    urlName = \"http://localhost:2020/addUser/\"\n",
    "    requests.post(urlName,data=dataName).text"
   ]
  },
  {
   "cell_type": "markdown",
   "metadata": {},
   "source": [
    "## Creación escena 'HEADQUARTERS':"
   ]
  },
  {
   "cell_type": "code",
   "execution_count": 179,
   "metadata": {},
   "outputs": [],
   "source": [
    "dataScene = {'scene':'HEADQUARTERS',\n",
    "            'names':['joy', 'sadness', 'disgust']\n",
    "            }"
   ]
  },
  {
   "cell_type": "code",
   "execution_count": 183,
   "metadata": {},
   "outputs": [],
   "source": [
    "urlScene = \"http://localhost:2020/addScene/\""
   ]
  },
  {
   "cell_type": "code",
   "execution_count": 181,
   "metadata": {},
   "outputs": [
    {
     "data": {
      "text/plain": [
       "\"Escena 'HEADQUARTERS' creada!\""
      ]
     },
     "execution_count": 181,
     "metadata": {},
     "output_type": "execute_result"
    }
   ],
   "source": [
    "requests.post(urlScene, data=dataScene).text"
   ]
  },
  {
   "cell_type": "markdown",
   "metadata": {},
   "source": [
    "## Creación diálogos:"
   ]
  },
  {
   "cell_type": "code",
   "execution_count": 254,
   "metadata": {},
   "outputs": [],
   "source": [
    "dataDialog = [{'name':'joy', 'scene':'HEADQUARTERS', 'dialog':\"Hmm. This looks new.\"},\n",
    "              {'name':'sadness', 'scene':'HEADQUARTERS', 'dialog':\"Do you think it’s safe? What is it?\"},\n",
    "              {'name':'disgust', 'scene':'HEADQUARTERS', 'dialog':\"enters\"},\n",
    "              {'name':'joy', 'scene':'HEADQUARTERS', 'dialog':\"This is Disgust. She basically keeps Riley from being poisoned, physically and socially.\"},\n",
    "              {'name':'disgust', 'scene':'HEADQUARTERS', 'dialog':\"That is not brightly colored or shaped like a dinosaur... Hold on guys... It’s broccoli! Disgust GAGS and pulls a lever.\"}\n",
    "             ]"
   ]
  },
  {
   "cell_type": "code",
   "execution_count": 255,
   "metadata": {},
   "outputs": [],
   "source": [
    "for dialog in dataDialog:\n",
    "    urlDialog = \"http://localhost:2020/addDialog/\"\n",
    "    requests.post(urlDialog, data=dialog).text"
   ]
  },
  {
   "cell_type": "markdown",
   "metadata": {},
   "source": [
    "# GET"
   ]
  },
  {
   "cell_type": "markdown",
   "metadata": {},
   "source": [
    "#### GET todos los personajes"
   ]
  },
  {
   "cell_type": "code",
   "execution_count": 256,
   "metadata": {},
   "outputs": [],
   "source": [
    "urlUsersNames = \"http://localhost:2020/usersnames/\"\n",
    "a = requests.get(urlUsersNames).json()"
   ]
  },
  {
   "cell_type": "code",
   "execution_count": 257,
   "metadata": {},
   "outputs": [
    {
     "data": {
      "text/html": [
       "<div>\n",
       "<style scoped>\n",
       "    .dataframe tbody tr th:only-of-type {\n",
       "        vertical-align: middle;\n",
       "    }\n",
       "\n",
       "    .dataframe tbody tr th {\n",
       "        vertical-align: top;\n",
       "    }\n",
       "\n",
       "    .dataframe thead th {\n",
       "        text-align: right;\n",
       "    }\n",
       "</style>\n",
       "<table border=\"1\" class=\"dataframe\">\n",
       "  <thead>\n",
       "    <tr style=\"text-align: right;\">\n",
       "      <th></th>\n",
       "      <th>userName</th>\n",
       "      <th>userID</th>\n",
       "    </tr>\n",
       "  </thead>\n",
       "  <tbody>\n",
       "    <tr>\n",
       "      <th>0</th>\n",
       "      <td>pruebaUser</td>\n",
       "      <td>0</td>\n",
       "    </tr>\n",
       "    <tr>\n",
       "      <th>1</th>\n",
       "      <td>joy</td>\n",
       "      <td>1</td>\n",
       "    </tr>\n",
       "    <tr>\n",
       "      <th>2</th>\n",
       "      <td>mom</td>\n",
       "      <td>2</td>\n",
       "    </tr>\n",
       "    <tr>\n",
       "      <th>3</th>\n",
       "      <td>dad</td>\n",
       "      <td>3</td>\n",
       "    </tr>\n",
       "    <tr>\n",
       "      <th>4</th>\n",
       "      <td>sadness</td>\n",
       "      <td>4</td>\n",
       "    </tr>\n",
       "  </tbody>\n",
       "</table>\n",
       "</div>"
      ],
      "text/plain": [
       "     userName  userID\n",
       "0  pruebaUser       0\n",
       "1         joy       1\n",
       "2         mom       2\n",
       "3         dad       3\n",
       "4     sadness       4"
      ]
     },
     "execution_count": 257,
     "metadata": {},
     "output_type": "execute_result"
    }
   ],
   "source": [
    "import pandas as pd\n",
    "pd.DataFrame(a).head()"
   ]
  },
  {
   "cell_type": "markdown",
   "metadata": {},
   "source": [
    "#### GET escenas en las que sale un personaje"
   ]
  },
  {
   "cell_type": "code",
   "execution_count": 258,
   "metadata": {},
   "outputs": [
    {
     "data": {
      "text/plain": [
       "[{'sceneName': 'HEADQUARTERS', 'sceneID': 1}]"
      ]
     },
     "execution_count": 258,
     "metadata": {},
     "output_type": "execute_result"
    }
   ],
   "source": [
    "urlscenesCharacter = \"http://localhost:2020/scenescharacter/joy\"\n",
    "requests.get(urlscenesCharacter).json()"
   ]
  },
  {
   "cell_type": "markdown",
   "metadata": {},
   "source": [
    "#### GET personajes de una escena"
   ]
  },
  {
   "cell_type": "code",
   "execution_count": 259,
   "metadata": {},
   "outputs": [
    {
     "data": {
      "text/plain": [
       "[{'sceneName': 'HEADQUARTERS',\n",
       "  'sceneID': 1,\n",
       "  'userNames': ['joy', 'sadness', 'disgust']}]"
      ]
     },
     "execution_count": 259,
     "metadata": {},
     "output_type": "execute_result"
    }
   ],
   "source": [
    "urlSceneInfo = \"http://localhost:2020/sceneinfo/HEADQUARTERS\"\n",
    "requests.get(urlSceneInfo).json()"
   ]
  },
  {
   "cell_type": "markdown",
   "metadata": {},
   "source": [
    "#### GET diálogos de una escena"
   ]
  },
  {
   "cell_type": "code",
   "execution_count": 263,
   "metadata": {
    "scrolled": false
   },
   "outputs": [
    {
     "data": {
      "text/plain": [
       "[{'sceneName': 'HEADQUARTERS',\n",
       "  'sceneID': 1,\n",
       "  'userName': 'joy',\n",
       "  'userID': 1,\n",
       "  'dialog': 'Hmm. This looks new.',\n",
       "  'dialogID': 1},\n",
       " {'sceneName': 'HEADQUARTERS',\n",
       "  'sceneID': 1,\n",
       "  'userName': 'sadness',\n",
       "  'userID': 4,\n",
       "  'dialog': 'Do you think it’s safe? What is it?',\n",
       "  'dialogID': 2},\n",
       " {'sceneName': 'HEADQUARTERS',\n",
       "  'sceneID': 1,\n",
       "  'userName': 'disgust',\n",
       "  'userID': 6,\n",
       "  'dialog': 'enters',\n",
       "  'dialogID': 3},\n",
       " {'sceneName': 'HEADQUARTERS',\n",
       "  'sceneID': 1,\n",
       "  'userName': 'joy',\n",
       "  'userID': 1,\n",
       "  'dialog': 'This is Disgust. She basically keeps Riley from being poisoned, physically and socially.',\n",
       "  'dialogID': 4},\n",
       " {'sceneName': 'HEADQUARTERS',\n",
       "  'sceneID': 1,\n",
       "  'userName': 'disgust',\n",
       "  'userID': 6,\n",
       "  'dialog': 'That is not brightly colored or shaped like a dinosaur... Hold on guys... It’s broccoli! Disgust GAGS and pulls a lever.',\n",
       "  'dialogID': 5}]"
      ]
     },
     "execution_count": 263,
     "metadata": {},
     "output_type": "execute_result"
    }
   ],
   "source": [
    "urlSceneDialogues = \"http://localhost:2020/scenedialogues/HEADQUARTERS\"\n",
    "requests.get(urlSceneDialogues).json()"
   ]
  },
  {
   "cell_type": "markdown",
   "metadata": {},
   "source": [
    "#### GET diálogos de un personaje"
   ]
  },
  {
   "cell_type": "code",
   "execution_count": 262,
   "metadata": {
    "scrolled": true
   },
   "outputs": [
    {
     "data": {
      "text/plain": [
       "[{'sceneName': 'HEADQUARTERS',\n",
       "  'sceneID': 1,\n",
       "  'userName': 'joy',\n",
       "  'userID': 1,\n",
       "  'dialog': 'Hmm. This looks new.',\n",
       "  'dialogID': 1},\n",
       " {'sceneName': 'HEADQUARTERS',\n",
       "  'sceneID': 1,\n",
       "  'userName': 'joy',\n",
       "  'userID': 1,\n",
       "  'dialog': 'This is Disgust. She basically keeps Riley from being poisoned, physically and socially.',\n",
       "  'dialogID': 4}]"
      ]
     },
     "execution_count": 262,
     "metadata": {},
     "output_type": "execute_result"
    }
   ],
   "source": [
    "charcaterUserDialogues = \"http://localhost:2020/characterdialogues/joy\"\n",
    "requests.get(charcaterUserDialogues).json()"
   ]
  },
  {
   "cell_type": "code",
   "execution_count": null,
   "metadata": {},
   "outputs": [],
   "source": []
  },
  {
   "cell_type": "code",
   "execution_count": null,
   "metadata": {},
   "outputs": [],
   "source": []
  },
  {
   "cell_type": "code",
   "execution_count": null,
   "metadata": {},
   "outputs": [],
   "source": []
  }
 ],
 "metadata": {
  "kernelspec": {
   "display_name": "Python 3",
   "language": "python",
   "name": "python3"
  },
  "language_info": {
   "codemirror_mode": {
    "name": "ipython",
    "version": 3
   },
   "file_extension": ".py",
   "mimetype": "text/x-python",
   "name": "python",
   "nbconvert_exporter": "python",
   "pygments_lexer": "ipython3",
   "version": "3.7.6"
  }
 },
 "nbformat": 4,
 "nbformat_minor": 2
}
