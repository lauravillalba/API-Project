{
 "cells": [
  {
   "cell_type": "markdown",
   "metadata": {},
   "source": [
    "# API - BBDD"
   ]
  },
  {
   "cell_type": "markdown",
   "metadata": {},
   "source": [
    "En este Jupyter voy a utilizar todos los POST y GET creados para generar la BBDD: personajes, escenas, diálogos y sentiment de las escenas y los personajes."
   ]
  },
  {
   "cell_type": "code",
   "execution_count": 1,
   "metadata": {},
   "outputs": [],
   "source": [
    "import requests"
   ]
  },
  {
   "cell_type": "markdown",
   "metadata": {},
   "source": [
    "## Funciones POST"
   ]
  },
  {
   "cell_type": "markdown",
   "metadata": {},
   "source": [
    "#### Creo personaje de prueba (id=0):"
   ]
  },
  {
   "cell_type": "code",
   "execution_count": 20,
   "metadata": {},
   "outputs": [],
   "source": [
    "dataName = {'name':'pruebaUser'}"
   ]
  },
  {
   "cell_type": "code",
   "execution_count": 21,
   "metadata": {},
   "outputs": [],
   "source": [
    "urlName = \"http://localhost:2020/addUser/\""
   ]
  },
  {
   "cell_type": "code",
   "execution_count": 25,
   "metadata": {},
   "outputs": [
    {
     "data": {
      "text/plain": [
       "\"Usuario 'pruebaUser' creado --> id: 0!\""
      ]
     },
     "execution_count": 25,
     "metadata": {},
     "output_type": "execute_result"
    }
   ],
   "source": [
    "requests.post(urlName,data=dataName).text"
   ]
  },
  {
   "cell_type": "markdown",
   "metadata": {},
   "source": [
    "#### Creo escena de prueba (id=0):"
   ]
  },
  {
   "cell_type": "code",
   "execution_count": 32,
   "metadata": {},
   "outputs": [],
   "source": [
    "dataScene = {'scene':'pruebaScene',\n",
    "            'names':['pruebaUser']\n",
    "            }"
   ]
  },
  {
   "cell_type": "code",
   "execution_count": 33,
   "metadata": {},
   "outputs": [],
   "source": [
    "urlScene = \"http://localhost:2020/addScene/\""
   ]
  },
  {
   "cell_type": "code",
   "execution_count": 34,
   "metadata": {},
   "outputs": [
    {
     "data": {
      "text/plain": [
       "\"Escena 'pruebaScene' creada --> id: 0\""
      ]
     },
     "execution_count": 34,
     "metadata": {},
     "output_type": "execute_result"
    }
   ],
   "source": [
    "requests.post(urlScene, data=dataScene).text"
   ]
  },
  {
   "cell_type": "markdown",
   "metadata": {},
   "source": [
    "#### Creo diálogo de prueba (id=0):"
   ]
  },
  {
   "cell_type": "code",
   "execution_count": 35,
   "metadata": {},
   "outputs": [],
   "source": [
    "dataDialog = {'name':'pruebaUser',\n",
    "                'scene':'pruebaScene',\n",
    "                'dialog':'Mensaje de prueba'\n",
    "            }"
   ]
  },
  {
   "cell_type": "code",
   "execution_count": 36,
   "metadata": {},
   "outputs": [],
   "source": [
    "urlDialog = \"http://localhost:2020/addDialog/\""
   ]
  },
  {
   "cell_type": "code",
   "execution_count": 37,
   "metadata": {},
   "outputs": [
    {
     "data": {
      "text/plain": [
       "'Dialogo guardado --> id: 0!'"
      ]
     },
     "execution_count": 37,
     "metadata": {},
     "output_type": "execute_result"
    }
   ],
   "source": [
    "requests.post(urlDialog, data=dataDialog).text"
   ]
  },
  {
   "cell_type": "markdown",
   "metadata": {},
   "source": [
    "---------------------------------------\n",
    "## Creación de todos los personajes:"
   ]
  },
  {
   "cell_type": "code",
   "execution_count": 49,
   "metadata": {},
   "outputs": [],
   "source": [
    "characters = [\"joy\", \"mom\", \"dad\", \"sadness\", \"fear\", \"disgust\", \"riley\", \"anger\", \"mum-sadness\", \"mum-anger\", \n",
    "              \"mum-joy\", \"mum-fear\", \"dad-anger\", \"dad-fear\", \"mum-disgust\", \"male-forgetter\", \"bing-bong\"]"
   ]
  },
  {
   "cell_type": "code",
   "execution_count": 50,
   "metadata": {},
   "outputs": [],
   "source": [
    "for character in characters:\n",
    "    dataName = {'name': character}\n",
    "    urlName = \"http://localhost:2020/addUser/\"\n",
    "    requests.post(urlName,data=dataName).text"
   ]
  },
  {
   "cell_type": "markdown",
   "metadata": {},
   "source": [
    "---------------------\n",
    "## Creación de todas las escenas"
   ]
  },
  {
   "cell_type": "code",
   "execution_count": 2,
   "metadata": {},
   "outputs": [
    {
     "data": {
      "text/plain": [
       "176"
      ]
     },
     "execution_count": 2,
     "metadata": {},
     "output_type": "execute_result"
    }
   ],
   "source": [
    "import json\n",
    "with open('../input/scenes.json') as json_file:\n",
    "    data = json.load(json_file)\n",
    "data[0]['names']\n",
    "len(data)"
   ]
  },
  {
   "cell_type": "code",
   "execution_count": 226,
   "metadata": {},
   "outputs": [],
   "source": [
    "for n in data:\n",
    "    dataScene = {'scene': n['scene'],\n",
    "                'names': n['names']}\n",
    "    urlScene = \"http://localhost:2020/addScene/\"\n",
    "    requests.post(urlScene,data=dataScene).text"
   ]
  },
  {
   "cell_type": "markdown",
   "metadata": {},
   "source": [
    "------------\n",
    "## Creación de todos los diálogos:"
   ]
  },
  {
   "cell_type": "code",
   "execution_count": 3,
   "metadata": {},
   "outputs": [
    {
     "data": {
      "text/plain": [
       "{'name': 'joy',\n",
       " 'scene': 'ID250679',\n",
       " 'dialog': 'Wait. What? What happened?Joy looks back. Sadness is touching the memory.'}"
      ]
     },
     "execution_count": 3,
     "metadata": {},
     "output_type": "execute_result"
    }
   ],
   "source": [
    "with open('../input/dialogues.json') as json_file:\n",
    "    datadialogs = json.load(json_file)\n",
    "datadialogs[0]"
   ]
  },
  {
   "cell_type": "code",
   "execution_count": 232,
   "metadata": {},
   "outputs": [],
   "source": [
    "for num in datadialogs:\n",
    "    datadialog = {'scene': num['scene'],\n",
    "                    'name': num['name'],\n",
    "                    'dialog': num['dialog']}\n",
    "    urlDialog = \"http://localhost:2020/addDialog/\"\n",
    "    requests.post(urlDialog, data=datadialog).text"
   ]
  },
  {
   "cell_type": "markdown",
   "metadata": {},
   "source": [
    "----------------------\n",
    "## Funciones GET"
   ]
  },
  {
   "cell_type": "markdown",
   "metadata": {},
   "source": [
    "#### GET todos los personajes"
   ]
  },
  {
   "cell_type": "code",
   "execution_count": 234,
   "metadata": {},
   "outputs": [],
   "source": [
    "urlUsersNames = \"http://localhost:2020/usersnames/\"\n",
    "a = requests.get(urlUsersNames).json()"
   ]
  },
  {
   "cell_type": "code",
   "execution_count": 235,
   "metadata": {},
   "outputs": [
    {
     "data": {
      "text/html": [
       "<div>\n",
       "<style scoped>\n",
       "    .dataframe tbody tr th:only-of-type {\n",
       "        vertical-align: middle;\n",
       "    }\n",
       "\n",
       "    .dataframe tbody tr th {\n",
       "        vertical-align: top;\n",
       "    }\n",
       "\n",
       "    .dataframe thead th {\n",
       "        text-align: right;\n",
       "    }\n",
       "</style>\n",
       "<table border=\"1\" class=\"dataframe\">\n",
       "  <thead>\n",
       "    <tr style=\"text-align: right;\">\n",
       "      <th></th>\n",
       "      <th>userName</th>\n",
       "      <th>userID</th>\n",
       "    </tr>\n",
       "  </thead>\n",
       "  <tbody>\n",
       "    <tr>\n",
       "      <th>0</th>\n",
       "      <td>pruebaUser</td>\n",
       "      <td>0</td>\n",
       "    </tr>\n",
       "    <tr>\n",
       "      <th>1</th>\n",
       "      <td>mom</td>\n",
       "      <td>2</td>\n",
       "    </tr>\n",
       "    <tr>\n",
       "      <th>2</th>\n",
       "      <td>dad</td>\n",
       "      <td>3</td>\n",
       "    </tr>\n",
       "    <tr>\n",
       "      <th>3</th>\n",
       "      <td>sadness</td>\n",
       "      <td>4</td>\n",
       "    </tr>\n",
       "    <tr>\n",
       "      <th>4</th>\n",
       "      <td>fear</td>\n",
       "      <td>5</td>\n",
       "    </tr>\n",
       "  </tbody>\n",
       "</table>\n",
       "</div>"
      ],
      "text/plain": [
       "     userName  userID\n",
       "0  pruebaUser       0\n",
       "1         mom       2\n",
       "2         dad       3\n",
       "3     sadness       4\n",
       "4        fear       5"
      ]
     },
     "execution_count": 235,
     "metadata": {},
     "output_type": "execute_result"
    }
   ],
   "source": [
    "import pandas as pd\n",
    "pd.DataFrame(a).head()"
   ]
  },
  {
   "cell_type": "markdown",
   "metadata": {},
   "source": [
    "#### GET escenas en las que sale un personaje"
   ]
  },
  {
   "cell_type": "code",
   "execution_count": 270,
   "metadata": {
    "scrolled": false
   },
   "outputs": [
    {
     "data": {
      "text/plain": [
       "[{'sceneID': 6,\n",
       "  'sceneName': 'ID268548',\n",
       "  'sceneSentiment': 0.04896666666666668},\n",
       " {'sceneID': 7, 'sceneName': 'ID915247', 'sceneSentiment': 0.0},\n",
       " {'sceneID': 9, 'sceneName': 'ID426817', 'sceneSentiment': 0.2651},\n",
       " {'sceneID': 10, 'sceneName': 'ID481507', 'sceneSentiment': -0.296},\n",
       " {'sceneID': 11,\n",
       "  'sceneName': 'ID952583',\n",
       "  'sceneSentiment': 0.09053333333333334},\n",
       " {'sceneID': 12, 'sceneName': 'ID681919', 'sceneSentiment': 0.4754},\n",
       " {'sceneID': 14, 'sceneName': 'ID244460', 'sceneSentiment': 0.7263},\n",
       " {'sceneID': 15, 'sceneName': 'ID290938', 'sceneSentiment': 0.357},\n",
       " {'sceneID': 21, 'sceneName': 'ID491416', 'sceneSentiment': 0.39195},\n",
       " {'sceneID': 23, 'sceneName': 'ID486902', 'sceneSentiment': 0.7045},\n",
       " {'sceneID': 26, 'sceneName': 'ID540303', 'sceneSentiment': 0.8555},\n",
       " {'sceneID': 44, 'sceneName': 'ID697402', 'sceneSentiment': 0.1806},\n",
       " {'sceneID': 45,\n",
       "  'sceneName': 'ID618225',\n",
       "  'sceneSentiment': -0.015666666666666662},\n",
       " {'sceneID': 46, 'sceneName': 'ID762470', 'sceneSentiment': 0.4588},\n",
       " {'sceneID': 47, 'sceneName': 'ID855252', 'sceneSentiment': 0.2083},\n",
       " {'sceneID': 51, 'sceneName': 'ID319290', 'sceneSentiment': 0.0},\n",
       " {'sceneID': 61, 'sceneName': 'ID968769', 'sceneSentiment': 0.36345},\n",
       " {'sceneID': 97, 'sceneName': 'ID342681', 'sceneSentiment': 0.5267},\n",
       " {'sceneID': 104, 'sceneName': 'ID465697', 'sceneSentiment': 0.4452},\n",
       " {'sceneID': 108, 'sceneName': 'ID957399', 'sceneSentiment': -0.23835},\n",
       " {'sceneID': 128, 'sceneName': 'ID311133', 'sceneSentiment': 0.6841},\n",
       " {'sceneID': 130,\n",
       "  'sceneName': 'ID529971',\n",
       "  'sceneSentiment': 0.37990000000000007},\n",
       " {'sceneID': 135, 'sceneName': 'ID309965', 'sceneSentiment': 0.0},\n",
       " {'sceneID': 140, 'sceneName': 'ID550375', 'sceneSentiment': 0.42775},\n",
       " {'sceneID': 142, 'sceneName': 'ID509313', 'sceneSentiment': 0.077675},\n",
       " {'sceneID': 144, 'sceneName': 'ID933121', 'sceneSentiment': 0.2942},\n",
       " {'sceneID': 145, 'sceneName': 'ID591269', 'sceneSentiment': 0.0},\n",
       " {'sceneID': 146, 'sceneName': 'ID152122', 'sceneSentiment': 0.0},\n",
       " {'sceneID': 147, 'sceneName': 'ID428745', 'sceneSentiment': 0.0},\n",
       " {'sceneID': 148, 'sceneName': 'ID316142', 'sceneSentiment': 0.0},\n",
       " {'sceneID': 152, 'sceneName': 'ID338769', 'sceneSentiment': 0.0},\n",
       " {'sceneID': 166, 'sceneName': 'ID928519', 'sceneSentiment': 0.27115},\n",
       " {'sceneID': 167,\n",
       "  'sceneName': 'ID713811',\n",
       "  'sceneSentiment': 0.010066666666666668},\n",
       " {'sceneID': 169, 'sceneName': 'ID756802', 'sceneSentiment': 0.0565}]"
      ]
     },
     "execution_count": 270,
     "metadata": {},
     "output_type": "execute_result"
    }
   ],
   "source": [
    "urlscenesCharacter = \"http://localhost:2020/scenescharacter/mom\"\n",
    "requests.get(urlscenesCharacter).json()"
   ]
  },
  {
   "cell_type": "markdown",
   "metadata": {},
   "source": [
    "#### GET personajes de una escena"
   ]
  },
  {
   "cell_type": "code",
   "execution_count": 239,
   "metadata": {},
   "outputs": [
    {
     "data": {
      "text/plain": [
       "[{'sceneID': 169,\n",
       "  'sceneName': 'ID756802',\n",
       "  'sceneSentiment': 0,\n",
       "  'userNames': ['dad', 'riley', 'mom']}]"
      ]
     },
     "execution_count": 239,
     "metadata": {},
     "output_type": "execute_result"
    }
   ],
   "source": [
    "urlSceneInfo = \"http://localhost:2020/sceneinfo/ID756802\"\n",
    "requests.get(urlSceneInfo).json()"
   ]
  },
  {
   "cell_type": "markdown",
   "metadata": {},
   "source": [
    "#### GET diálogos de una escena"
   ]
  },
  {
   "cell_type": "code",
   "execution_count": 240,
   "metadata": {
    "scrolled": false
   },
   "outputs": [
    {
     "data": {
      "text/plain": [
       "[{'sceneName': 'ID756802',\n",
       "  'sceneID': 169,\n",
       "  'userName': 'dad',\n",
       "  'userID': 3,\n",
       "  'dialog': 'Now when you get out there, you beaggressive!',\n",
       "  'dialogID': 267},\n",
       " {'sceneName': 'ID756802',\n",
       "  'sceneID': 169,\n",
       "  'userName': 'riley',\n",
       "  'userID': 7,\n",
       "  'dialog': '(embarrassed)I know, Dad.',\n",
       "  'dialogID': 268},\n",
       " {'sceneName': 'ID756802',\n",
       "  'sceneID': 169,\n",
       "  'userName': 'mom',\n",
       "  'userID': 2,\n",
       "  'dialog': '-- but not too aggressive.',\n",
       "  'dialogID': 269}]"
      ]
     },
     "execution_count": 240,
     "metadata": {},
     "output_type": "execute_result"
    }
   ],
   "source": [
    "urlSceneDialogues = \"http://localhost:2020/scenedialogues/ID756802\"\n",
    "requests.get(urlSceneDialogues).json()"
   ]
  },
  {
   "cell_type": "markdown",
   "metadata": {},
   "source": [
    "#### GET diálogos de un personaje"
   ]
  },
  {
   "cell_type": "code",
   "execution_count": 9,
   "metadata": {
    "scrolled": true
   },
   "outputs": [
    {
     "data": {
      "text/plain": [
       "[{'sceneName': 'HEADQUARTERS',\n",
       "  'sceneID': 1,\n",
       "  'userName': 'joy',\n",
       "  'userID': 1,\n",
       "  'dialog': 'Hmm. This looks new.',\n",
       "  'dialogID': 1},\n",
       " {'sceneName': 'HEADQUARTERS',\n",
       "  'sceneID': 1,\n",
       "  'userName': 'joy',\n",
       "  'userID': 1,\n",
       "  'dialog': 'This is Disgust. She basically keeps Riley from being poisoned, physically and socially.',\n",
       "  'dialogID': 4}]"
      ]
     },
     "execution_count": 9,
     "metadata": {},
     "output_type": "execute_result"
    }
   ],
   "source": [
    "charcaterUserDialogues = \"http://localhost:2020/characterdialogues/joy\"\n",
    "requests.get(charcaterUserDialogues).json()"
   ]
  },
  {
   "cell_type": "markdown",
   "metadata": {},
   "source": [
    "#### GET sentiment de una escena"
   ]
  },
  {
   "cell_type": "markdown",
   "metadata": {},
   "source": [
    "Calculo el sentiment de todas las escenas, para dejarlo almacenado en la bbdd."
   ]
  },
  {
   "cell_type": "code",
   "execution_count": 43,
   "metadata": {},
   "outputs": [
    {
     "data": {
      "text/plain": [
       "{'names': ['joy', 'sadness'], 'scene': 'ID582408'}"
      ]
     },
     "execution_count": 43,
     "metadata": {},
     "output_type": "execute_result"
    }
   ],
   "source": [
    "with open('input/scenes.json') as json_file:\n",
    "    data = json.load(json_file)\n",
    "data[2]\n"
   ]
  },
  {
   "cell_type": "code",
   "execution_count": 44,
   "metadata": {},
   "outputs": [
    {
     "data": {
      "text/plain": [
       "'http://localhost:2020/sentimentscene/ID582408'"
      ]
     },
     "execution_count": 44,
     "metadata": {},
     "output_type": "execute_result"
    }
   ],
   "source": [
    "\n",
    "urlSentimentScene =  f\"http://localhost:2020/sentimentscene/{data[2]['scene']}\"\n",
    "'''escena = data[0]['scene']\n",
    "urlsent = urlSentimentScene+escena\n",
    "urlsent'''\n",
    "urlSentimentScene"
   ]
  },
  {
   "cell_type": "code",
   "execution_count": 255,
   "metadata": {},
   "outputs": [],
   "source": [
    "for n in data:\n",
    "    urlSentimentScene =  f\"http://localhost:2020/sentimentscene/{n['scene']}\"\n",
    "    requests.get(urlSentimentScene).json()"
   ]
  },
  {
   "cell_type": "markdown",
   "metadata": {},
   "source": [
    "Introduciendo la escena devuelve el sentiment de cada frase:"
   ]
  },
  {
   "cell_type": "code",
   "execution_count": 47,
   "metadata": {},
   "outputs": [
    {
     "data": {
      "text/plain": [
       "[{'sceneName': 'ID582408',\n",
       "  'sceneID': 3,\n",
       "  'userName': 'joy',\n",
       "  'userID': 1,\n",
       "  'dialog': 'Wait, what? What happened?Suddenly a CORE MEMORY ROLLS up to Joy’s feet.',\n",
       "  'dialogID': 6,\n",
       "  'compound': 0.0},\n",
       " {'sceneName': 'ID582408',\n",
       "  'sceneID': 3,\n",
       "  'userName': 'sadness',\n",
       "  'userID': 4,\n",
       "  'dialog': 'It looked like one was crooked so Iopened it and then it fell out!Joy pops the memory back in. GOOFBALL ISLAND comes back on.',\n",
       "  'dialogID': 7,\n",
       "  'compound': 0.4199}]"
      ]
     },
     "execution_count": 47,
     "metadata": {},
     "output_type": "execute_result"
    }
   ],
   "source": [
    "urlSentimentScene =  f\"http://localhost:2020/sentimentscene/ID582408\"\n",
    "requests.get(urlSentimentScene).json()"
   ]
  },
  {
   "cell_type": "markdown",
   "metadata": {},
   "source": [
    "#### GET sentiment de un personaje"
   ]
  },
  {
   "cell_type": "markdown",
   "metadata": {},
   "source": [
    "Calculo el sentiment de todos los personajes, para dejarlo almacenado en la bbdd."
   ]
  },
  {
   "cell_type": "code",
   "execution_count": 258,
   "metadata": {},
   "outputs": [],
   "source": [
    "characters = [\"joy\", \"mom\", \"dad\", \"sadness\", \"fear\", \"disgust\", \"riley\", \"anger\", \"mum-sadness\", \"mum-anger\", \n",
    "              \"mum-joy\", \"mum-fear\", \"dad-anger\", \"dad-fear\", \"mum-disgust\", \"male-forgetter\", \"bing-bong\"]"
   ]
  },
  {
   "cell_type": "code",
   "execution_count": 262,
   "metadata": {},
   "outputs": [],
   "source": [
    "for c in characters:\n",
    "    urlSentimentCharacter = f\"http://localhost:2020/sentimentcharacter/{c}\"\n",
    "    requests.get(urlSentimentCharacter).json()"
   ]
  },
  {
   "cell_type": "code",
   "execution_count": 50,
   "metadata": {},
   "outputs": [
    {
     "data": {
      "text/plain": [
       "'[{\"userID\": 2, \"userName\": \"mom\", \"userSentiment\": 0.2505264705882353}]'"
      ]
     },
     "execution_count": 50,
     "metadata": {},
     "output_type": "execute_result"
    }
   ],
   "source": [
    "urlSentimentCharacter = f\"http://localhost:2020/sentimentcharacter/mom\"\n",
    "requests.get(urlSentimentCharacter).json()"
   ]
  },
  {
   "cell_type": "markdown",
   "metadata": {},
   "source": [
    "#### GET detalles de un personaje"
   ]
  },
  {
   "cell_type": "code",
   "execution_count": 243,
   "metadata": {},
   "outputs": [
    {
     "data": {
      "text/plain": [
       "'[{\"userID\": 2, \"userName\": \"mom\", \"userSentiment\": 0.2505264705882353}]'"
      ]
     },
     "execution_count": 243,
     "metadata": {},
     "output_type": "execute_result"
    }
   ],
   "source": [
    "urlCharacter = \"http://localhost:2020/character/mom\"\n",
    "requests.get(urlCharacter).text"
   ]
  },
  {
   "cell_type": "code",
   "execution_count": 269,
   "metadata": {},
   "outputs": [
    {
     "data": {
      "text/html": [
       "<div>\n",
       "<style scoped>\n",
       "    .dataframe tbody tr th:only-of-type {\n",
       "        vertical-align: middle;\n",
       "    }\n",
       "\n",
       "    .dataframe tbody tr th {\n",
       "        vertical-align: top;\n",
       "    }\n",
       "\n",
       "    .dataframe thead th {\n",
       "        text-align: right;\n",
       "    }\n",
       "</style>\n",
       "<table border=\"1\" class=\"dataframe\">\n",
       "  <thead>\n",
       "    <tr style=\"text-align: right;\">\n",
       "      <th></th>\n",
       "      <th>userName</th>\n",
       "      <th>userID</th>\n",
       "      <th>userSentiment</th>\n",
       "    </tr>\n",
       "  </thead>\n",
       "  <tbody>\n",
       "    <tr>\n",
       "      <th>0</th>\n",
       "      <td>pruebaUser</td>\n",
       "      <td>0</td>\n",
       "      <td>NaN</td>\n",
       "    </tr>\n",
       "    <tr>\n",
       "      <th>1</th>\n",
       "      <td>mom</td>\n",
       "      <td>2</td>\n",
       "      <td>0.250526</td>\n",
       "    </tr>\n",
       "    <tr>\n",
       "      <th>2</th>\n",
       "      <td>dad</td>\n",
       "      <td>3</td>\n",
       "      <td>-0.074173</td>\n",
       "    </tr>\n",
       "    <tr>\n",
       "      <th>3</th>\n",
       "      <td>sadness</td>\n",
       "      <td>4</td>\n",
       "      <td>0.031578</td>\n",
       "    </tr>\n",
       "    <tr>\n",
       "      <th>4</th>\n",
       "      <td>fear</td>\n",
       "      <td>5</td>\n",
       "      <td>NaN</td>\n",
       "    </tr>\n",
       "    <tr>\n",
       "      <th>5</th>\n",
       "      <td>disgust</td>\n",
       "      <td>6</td>\n",
       "      <td>0.084558</td>\n",
       "    </tr>\n",
       "    <tr>\n",
       "      <th>6</th>\n",
       "      <td>riley</td>\n",
       "      <td>7</td>\n",
       "      <td>0.167689</td>\n",
       "    </tr>\n",
       "    <tr>\n",
       "      <th>7</th>\n",
       "      <td>anger</td>\n",
       "      <td>8</td>\n",
       "      <td>0.012292</td>\n",
       "    </tr>\n",
       "    <tr>\n",
       "      <th>8</th>\n",
       "      <td>mum-sadness</td>\n",
       "      <td>9</td>\n",
       "      <td>-0.070160</td>\n",
       "    </tr>\n",
       "    <tr>\n",
       "      <th>9</th>\n",
       "      <td>mum-anger</td>\n",
       "      <td>10</td>\n",
       "      <td>NaN</td>\n",
       "    </tr>\n",
       "    <tr>\n",
       "      <th>10</th>\n",
       "      <td>mum-joy</td>\n",
       "      <td>11</td>\n",
       "      <td>NaN</td>\n",
       "    </tr>\n",
       "    <tr>\n",
       "      <th>11</th>\n",
       "      <td>mum-fear</td>\n",
       "      <td>12</td>\n",
       "      <td>0.000000</td>\n",
       "    </tr>\n",
       "    <tr>\n",
       "      <th>12</th>\n",
       "      <td>dad-anger</td>\n",
       "      <td>13</td>\n",
       "      <td>0.150400</td>\n",
       "    </tr>\n",
       "    <tr>\n",
       "      <th>13</th>\n",
       "      <td>dad-fear</td>\n",
       "      <td>14</td>\n",
       "      <td>0.277567</td>\n",
       "    </tr>\n",
       "    <tr>\n",
       "      <th>14</th>\n",
       "      <td>mum-disgust</td>\n",
       "      <td>15</td>\n",
       "      <td>-0.156575</td>\n",
       "    </tr>\n",
       "    <tr>\n",
       "      <th>15</th>\n",
       "      <td>male-forgetter</td>\n",
       "      <td>16</td>\n",
       "      <td>NaN</td>\n",
       "    </tr>\n",
       "    <tr>\n",
       "      <th>16</th>\n",
       "      <td>bing-bong</td>\n",
       "      <td>17</td>\n",
       "      <td>NaN</td>\n",
       "    </tr>\n",
       "    <tr>\n",
       "      <th>17</th>\n",
       "      <td>joy</td>\n",
       "      <td>1</td>\n",
       "      <td>0.006122</td>\n",
       "    </tr>\n",
       "  </tbody>\n",
       "</table>\n",
       "</div>"
      ],
      "text/plain": [
       "          userName  userID  userSentiment\n",
       "0       pruebaUser       0            NaN\n",
       "1              mom       2       0.250526\n",
       "2              dad       3      -0.074173\n",
       "3          sadness       4       0.031578\n",
       "4             fear       5            NaN\n",
       "5          disgust       6       0.084558\n",
       "6            riley       7       0.167689\n",
       "7            anger       8       0.012292\n",
       "8      mum-sadness       9      -0.070160\n",
       "9        mum-anger      10            NaN\n",
       "10         mum-joy      11            NaN\n",
       "11        mum-fear      12       0.000000\n",
       "12       dad-anger      13       0.150400\n",
       "13        dad-fear      14       0.277567\n",
       "14     mum-disgust      15      -0.156575\n",
       "15  male-forgetter      16            NaN\n",
       "16       bing-bong      17            NaN\n",
       "17             joy       1       0.006122"
      ]
     },
     "execution_count": 269,
     "metadata": {},
     "output_type": "execute_result"
    }
   ],
   "source": [
    "urlUsersNames = \"http://localhost:2020/usersnames/\"\n",
    "a = requests.get(urlUsersNames).json()\n",
    "pd.DataFrame (a)"
   ]
  },
  {
   "cell_type": "code",
   "execution_count": null,
   "metadata": {},
   "outputs": [],
   "source": []
  }
 ],
 "metadata": {
  "kernelspec": {
   "display_name": "Python 3",
   "language": "python",
   "name": "python3"
  },
  "language_info": {
   "codemirror_mode": {
    "name": "ipython",
    "version": 3
   },
   "file_extension": ".py",
   "mimetype": "text/x-python",
   "name": "python",
   "nbconvert_exporter": "python",
   "pygments_lexer": "ipython3",
   "version": "3.7.6"
  }
 },
 "nbformat": 4,
 "nbformat_minor": 2
}
