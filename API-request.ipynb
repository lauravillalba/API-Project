{
 "cells": [
  {
   "cell_type": "code",
   "execution_count": 8,
   "metadata": {},
   "outputs": [],
   "source": [
    "import requests"
   ]
  },
  {
   "cell_type": "markdown",
   "metadata": {},
   "source": [
    "# POST"
   ]
  },
  {
   "cell_type": "markdown",
   "metadata": {},
   "source": [
    "### Add character"
   ]
  },
  {
   "cell_type": "code",
   "execution_count": 9,
   "metadata": {},
   "outputs": [
    {
     "data": {
      "text/plain": [
       "'Ya existe ese nombre'"
      ]
     },
     "execution_count": 9,
     "metadata": {},
     "output_type": "execute_result"
    }
   ],
   "source": [
    "dataName = {'name':'pruebaUser'}\n",
    "urlName = \"http://localhost:2020/addUser/\"\n",
    "requests.post(urlName,data=dataName).text"
   ]
  },
  {
   "cell_type": "markdown",
   "metadata": {},
   "source": [
    "### Add scene"
   ]
  },
  {
   "cell_type": "code",
   "execution_count": 10,
   "metadata": {},
   "outputs": [
    {
     "data": {
      "text/plain": [
       "'Esta escena ya existe'"
      ]
     },
     "execution_count": 10,
     "metadata": {},
     "output_type": "execute_result"
    }
   ],
   "source": [
    "dataScene = {'scene':'pruebaScene',\n",
    "            'names':['pruebaUser']\n",
    "            }\n",
    "\n",
    "urlScene = \"http://localhost:2020/addScene/\"\n",
    "requests.post(urlScene, data=dataScene).text"
   ]
  },
  {
   "cell_type": "markdown",
   "metadata": {},
   "source": [
    "### Add dialog"
   ]
  },
  {
   "cell_type": "code",
   "execution_count": 26,
   "metadata": {},
   "outputs": [
    {
     "data": {
      "text/plain": [
       "'Dialogo guardado --> id: 284!'"
      ]
     },
     "execution_count": 26,
     "metadata": {},
     "output_type": "execute_result"
    }
   ],
   "source": [
    "dataDialog = {'name':'pruebaUser',\n",
    "                'scene':'pruebaScene',\n",
    "                'dialog':'Mensaje de prueba'\n",
    "            }\n",
    "urlDialog = \"http://localhost:2020/addDialog/\"\n",
    "requests.post(urlDialog, data=dataDialog).text"
   ]
  },
  {
   "cell_type": "markdown",
   "metadata": {},
   "source": [
    "# GET"
   ]
  },
  {
   "cell_type": "markdown",
   "metadata": {},
   "source": [
    "### GET todos los personajes"
   ]
  },
  {
   "cell_type": "code",
   "execution_count": 4,
   "metadata": {},
   "outputs": [
    {
     "data": {
      "text/plain": [
       "[{'userID': 2, 'userName': 'mom', 'userSentiment': 0.2505264705882353},\n",
       " {'userID': 3, 'userName': 'dad', 'userSentiment': -0.07417333333333334},\n",
       " {'userID': 4, 'userName': 'sadness', 'userSentiment': 0.031578048780487804},\n",
       " {'userID': 5, 'userName': 'fear', 'userSentiment': nan},\n",
       " {'userID': 6, 'userName': 'disgust', 'userSentiment': 0.08455757575757576},\n",
       " {'userID': 7, 'userName': 'riley', 'userSentiment': 0.16768928571428574},\n",
       " {'userID': 8, 'userName': 'anger', 'userSentiment': 0.012291891891891882},\n",
       " {'userID': 9, 'userName': 'mum-sadness', 'userSentiment': -0.07016},\n",
       " {'userID': 10, 'userName': 'mum-anger', 'userSentiment': nan},\n",
       " {'userID': 11, 'userName': 'mum-joy', 'userSentiment': nan},\n",
       " {'userID': 12, 'userName': 'mum-fear', 'userSentiment': 0.0},\n",
       " {'userID': 13, 'userName': 'dad-anger', 'userSentiment': 0.1504},\n",
       " {'userID': 14, 'userName': 'dad-fear', 'userSentiment': 0.2775666666666667},\n",
       " {'userID': 15,\n",
       "  'userName': 'mum-disgust',\n",
       "  'userSentiment': -0.15657500000000002},\n",
       " {'userID': 16, 'userName': 'male-forgetter', 'userSentiment': nan},\n",
       " {'userID': 17, 'userName': 'bing-bong', 'userSentiment': nan},\n",
       " {'userName': 'joy', 'userID': 1, 'userSentiment': 0.0061219178082191775},\n",
       " {'userID': 0, 'userName': 'pruebaUser', 'userSentiment': 0}]"
      ]
     },
     "execution_count": 4,
     "metadata": {},
     "output_type": "execute_result"
    }
   ],
   "source": [
    "urlUsersNames = \"http://localhost:2020/usersnames/\"\n",
    "requests.get(urlUsersNames).json()"
   ]
  },
  {
   "cell_type": "markdown",
   "metadata": {},
   "source": [
    "### GET detalle de un personaje"
   ]
  },
  {
   "cell_type": "code",
   "execution_count": 11,
   "metadata": {},
   "outputs": [
    {
     "data": {
      "text/plain": [
       "[{'userName': 'joy', 'userID': 1, 'userSentiment': 0.0061219178082191775}]"
      ]
     },
     "execution_count": 11,
     "metadata": {},
     "output_type": "execute_result"
    }
   ],
   "source": [
    "urlCharacter = \"http://localhost:2020/character/joy\"\n",
    "requests.get(urlCharacter).json()"
   ]
  },
  {
   "cell_type": "markdown",
   "metadata": {},
   "source": [
    "### GET escenas en las que sale un personaje"
   ]
  },
  {
   "cell_type": "code",
   "execution_count": 12,
   "metadata": {},
   "outputs": [
    {
     "data": {
      "text/plain": [
       "[{'sceneID': 6,\n",
       "  'sceneName': 'ID268548',\n",
       "  'sceneSentiment': 0.04896666666666668},\n",
       " {'sceneID': 7, 'sceneName': 'ID915247', 'sceneSentiment': 0.0},\n",
       " {'sceneID': 9, 'sceneName': 'ID426817', 'sceneSentiment': 0.2651},\n",
       " {'sceneID': 10, 'sceneName': 'ID481507', 'sceneSentiment': -0.296},\n",
       " {'sceneID': 11,\n",
       "  'sceneName': 'ID952583',\n",
       "  'sceneSentiment': 0.09053333333333334},\n",
       " {'sceneID': 12, 'sceneName': 'ID681919', 'sceneSentiment': 0.4754},\n",
       " {'sceneID': 14, 'sceneName': 'ID244460', 'sceneSentiment': 0.7263},\n",
       " {'sceneID': 15, 'sceneName': 'ID290938', 'sceneSentiment': 0.357},\n",
       " {'sceneID': 21, 'sceneName': 'ID491416', 'sceneSentiment': 0.39195},\n",
       " {'sceneID': 23, 'sceneName': 'ID486902', 'sceneSentiment': 0.7045},\n",
       " {'sceneID': 26, 'sceneName': 'ID540303', 'sceneSentiment': 0.8555},\n",
       " {'sceneID': 44, 'sceneName': 'ID697402', 'sceneSentiment': 0.1806},\n",
       " {'sceneID': 45,\n",
       "  'sceneName': 'ID618225',\n",
       "  'sceneSentiment': -0.015666666666666662},\n",
       " {'sceneID': 46, 'sceneName': 'ID762470', 'sceneSentiment': 0.4588},\n",
       " {'sceneID': 47, 'sceneName': 'ID855252', 'sceneSentiment': 0.2083},\n",
       " {'sceneID': 51, 'sceneName': 'ID319290', 'sceneSentiment': 0.0},\n",
       " {'sceneID': 61, 'sceneName': 'ID968769', 'sceneSentiment': 0.36345},\n",
       " {'sceneID': 97, 'sceneName': 'ID342681', 'sceneSentiment': 0.5267},\n",
       " {'sceneID': 104, 'sceneName': 'ID465697', 'sceneSentiment': 0.4452},\n",
       " {'sceneID': 108, 'sceneName': 'ID957399', 'sceneSentiment': -0.23835},\n",
       " {'sceneID': 128, 'sceneName': 'ID311133', 'sceneSentiment': 0.6841},\n",
       " {'sceneID': 130,\n",
       "  'sceneName': 'ID529971',\n",
       "  'sceneSentiment': 0.37990000000000007},\n",
       " {'sceneID': 135, 'sceneName': 'ID309965', 'sceneSentiment': 0.0},\n",
       " {'sceneID': 140, 'sceneName': 'ID550375', 'sceneSentiment': 0.42775},\n",
       " {'sceneID': 142, 'sceneName': 'ID509313', 'sceneSentiment': 0.077675},\n",
       " {'sceneID': 144, 'sceneName': 'ID933121', 'sceneSentiment': 0.2942},\n",
       " {'sceneID': 145, 'sceneName': 'ID591269', 'sceneSentiment': 0.0},\n",
       " {'sceneID': 146, 'sceneName': 'ID152122', 'sceneSentiment': 0.0},\n",
       " {'sceneID': 147, 'sceneName': 'ID428745', 'sceneSentiment': 0.0},\n",
       " {'sceneID': 148, 'sceneName': 'ID316142', 'sceneSentiment': 0.0},\n",
       " {'sceneID': 152, 'sceneName': 'ID338769', 'sceneSentiment': 0.0},\n",
       " {'sceneID': 166, 'sceneName': 'ID928519', 'sceneSentiment': 0.27115},\n",
       " {'sceneID': 167,\n",
       "  'sceneName': 'ID713811',\n",
       "  'sceneSentiment': 0.010066666666666668},\n",
       " {'sceneID': 169, 'sceneName': 'ID756802', 'sceneSentiment': 0.0565}]"
      ]
     },
     "execution_count": 12,
     "metadata": {},
     "output_type": "execute_result"
    }
   ],
   "source": [
    "urlscenesCharacter = \"http://localhost:2020/scenescharacter/mom\"\n",
    "requests.get(urlscenesCharacter).json()"
   ]
  },
  {
   "cell_type": "markdown",
   "metadata": {},
   "source": [
    "### GET personajes que salen en una escena"
   ]
  },
  {
   "cell_type": "code",
   "execution_count": 13,
   "metadata": {},
   "outputs": [
    {
     "data": {
      "text/plain": [
       "[{'sceneID': 169,\n",
       "  'sceneName': 'ID756802',\n",
       "  'sceneSentiment': 0.0565,\n",
       "  'userNames': ['dad', 'riley', 'mom']}]"
      ]
     },
     "execution_count": 13,
     "metadata": {},
     "output_type": "execute_result"
    }
   ],
   "source": [
    "urlSceneInfo = \"http://localhost:2020/sceneinfo/ID756802\"\n",
    "requests.get(urlSceneInfo).json()"
   ]
  },
  {
   "cell_type": "markdown",
   "metadata": {},
   "source": [
    "### GET diálogos de una escena"
   ]
  },
  {
   "cell_type": "code",
   "execution_count": 14,
   "metadata": {},
   "outputs": [
    {
     "data": {
      "text/plain": [
       "[{'sceneName': 'ID756802',\n",
       "  'sceneID': 169,\n",
       "  'userName': 'dad',\n",
       "  'userID': 3,\n",
       "  'dialog': 'Now when you get out there, you beaggressive!',\n",
       "  'dialogID': 267},\n",
       " {'sceneName': 'ID756802',\n",
       "  'sceneID': 169,\n",
       "  'userName': 'riley',\n",
       "  'userID': 7,\n",
       "  'dialog': '(embarrassed)I know, Dad.',\n",
       "  'dialogID': 268},\n",
       " {'sceneName': 'ID756802',\n",
       "  'sceneID': 169,\n",
       "  'userName': 'mom',\n",
       "  'userID': 2,\n",
       "  'dialog': '-- but not too aggressive.',\n",
       "  'dialogID': 269}]"
      ]
     },
     "execution_count": 14,
     "metadata": {},
     "output_type": "execute_result"
    }
   ],
   "source": [
    "urlSceneDialogues = \"http://localhost:2020/scenedialogues/ID756802\"\n",
    "requests.get(urlSceneDialogues).json()"
   ]
  },
  {
   "cell_type": "markdown",
   "metadata": {},
   "source": [
    "### GET todas las frases de un personaje "
   ]
  },
  {
   "cell_type": "code",
   "execution_count": 15,
   "metadata": {},
   "outputs": [
    {
     "data": {
      "text/plain": [
       "[{'sceneName': 'ID250679',\n",
       "  'sceneID': 1,\n",
       "  'userName': 'joy',\n",
       "  'userID': 1,\n",
       "  'dialog': 'Wait. What? What happened?Joy looks back. Sadness is touching the memory.',\n",
       "  'dialogID': 1},\n",
       " {'sceneName': 'ID795714',\n",
       "  'sceneID': 2,\n",
       "  'userName': 'joy',\n",
       "  'userID': 1,\n",
       "  'dialog': 'Just don’t touch any other memoriesuntil we figure out what’s going on.Okay.',\n",
       "  'dialogID': 5},\n",
       " {'sceneName': 'ID582408',\n",
       "  'sceneID': 3,\n",
       "  'userName': 'joy',\n",
       "  'userID': 1,\n",
       "  'dialog': 'Wait, what? What happened?Suddenly a CORE MEMORY ROLLS up to Joy’s feet.',\n",
       "  'dialogID': 6}]"
      ]
     },
     "execution_count": 15,
     "metadata": {},
     "output_type": "execute_result"
    }
   ],
   "source": [
    "charcaterUserDialogues = \"http://localhost:2020/characterdialogues/joy\"\n",
    "requests.get(charcaterUserDialogues).json()[0:3]"
   ]
  },
  {
   "cell_type": "markdown",
   "metadata": {},
   "source": [
    "## SENTIMENT"
   ]
  },
  {
   "cell_type": "markdown",
   "metadata": {},
   "source": [
    "### SENTIMENT de los mensajes de una escena"
   ]
  },
  {
   "cell_type": "code",
   "execution_count": 16,
   "metadata": {},
   "outputs": [
    {
     "data": {
      "text/plain": [
       "[{'sceneName': 'ID582408',\n",
       "  'sceneID': 3,\n",
       "  'userName': 'joy',\n",
       "  'userID': 1,\n",
       "  'dialog': 'Wait, what? What happened?Suddenly a CORE MEMORY ROLLS up to Joy’s feet.',\n",
       "  'dialogID': 6,\n",
       "  'compound': 0.0},\n",
       " {'sceneName': 'ID582408',\n",
       "  'sceneID': 3,\n",
       "  'userName': 'sadness',\n",
       "  'userID': 4,\n",
       "  'dialog': 'It looked like one was crooked so Iopened it and then it fell out!Joy pops the memory back in. GOOFBALL ISLAND comes back on.',\n",
       "  'dialogID': 7,\n",
       "  'compound': 0.4199}]"
      ]
     },
     "execution_count": 16,
     "metadata": {},
     "output_type": "execute_result"
    }
   ],
   "source": [
    "urlSentimentScene =  f\"http://localhost:2020/sentimentscene/ID582408\"\n",
    "requests.get(urlSentimentScene).json()"
   ]
  },
  {
   "cell_type": "markdown",
   "metadata": {},
   "source": [
    "### SENTIMENT de un personaje"
   ]
  },
  {
   "cell_type": "code",
   "execution_count": 17,
   "metadata": {},
   "outputs": [
    {
     "data": {
      "text/plain": [
       "'[{\"userID\": 2, \"userName\": \"mom\", \"userSentiment\": 0.2505264705882353}]'"
      ]
     },
     "execution_count": 17,
     "metadata": {},
     "output_type": "execute_result"
    }
   ],
   "source": [
    "urlSentimentCharacter = f\"http://localhost:2020/sentimentcharacter/mom\"\n",
    "requests.get(urlSentimentCharacter).json()"
   ]
  },
  {
   "cell_type": "markdown",
   "metadata": {},
   "source": [
    "## RECOMMENDATION SYSTEM"
   ]
  },
  {
   "cell_type": "code",
   "execution_count": 18,
   "metadata": {},
   "outputs": [
    {
     "data": {
      "text/plain": [
       "'Recomendamos a joy'"
      ]
     },
     "execution_count": 18,
     "metadata": {},
     "output_type": "execute_result"
    }
   ],
   "source": [
    "urlName = \"http://localhost:2020/recommended/dad-anger\"\n",
    "requests.get(urlName).text"
   ]
  },
  {
   "cell_type": "code",
   "execution_count": 19,
   "metadata": {},
   "outputs": [
    {
     "data": {
      "text/plain": [
       "'Recomendamos a dad-anger'"
      ]
     },
     "execution_count": 19,
     "metadata": {},
     "output_type": "execute_result"
    }
   ],
   "source": [
    "urlName = \"http://localhost:2020/recommended/riley\"\n",
    "requests.get(urlName).text"
   ]
  },
  {
   "cell_type": "code",
   "execution_count": null,
   "metadata": {},
   "outputs": [],
   "source": []
  },
  {
   "cell_type": "code",
   "execution_count": null,
   "metadata": {},
   "outputs": [],
   "source": []
  }
 ],
 "metadata": {
  "kernelspec": {
   "display_name": "Python 3",
   "language": "python",
   "name": "python3"
  },
  "language_info": {
   "codemirror_mode": {
    "name": "ipython",
    "version": 3
   },
   "file_extension": ".py",
   "mimetype": "text/x-python",
   "name": "python",
   "nbconvert_exporter": "python",
   "pygments_lexer": "ipython3",
   "version": "3.7.6"
  }
 },
 "nbformat": 4,
 "nbformat_minor": 4
}
