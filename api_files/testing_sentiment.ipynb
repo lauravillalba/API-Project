{
 "cells": [
  {
   "cell_type": "code",
   "execution_count": 1,
   "metadata": {},
   "outputs": [],
   "source": [
    "import nltk\n",
    "#nltk.download('vader_lexicon')\n",
    "from nltk.sentiment.vader import SentimentIntensityAnalyzer"
   ]
  },
  {
   "cell_type": "code",
   "execution_count": 2,
   "metadata": {},
   "outputs": [],
   "source": [
    "sia = SentimentIntensityAnalyzer()"
   ]
  },
  {
   "cell_type": "code",
   "execution_count": 3,
   "metadata": {},
   "outputs": [
    {
     "name": "stdout",
     "output_type": "stream",
     "text": [
      "{'neg': 0.225, 'neu': 0.775, 'pos': 0.0, 'compound': -0.4939}\n"
     ]
    },
    {
     "data": {
      "text/plain": [
       "-0.4939"
      ]
     },
     "execution_count": 3,
     "metadata": {},
     "output_type": "execute_result"
    }
   ],
   "source": [
    "sentence=\"This is. She basically keeps Riley from being poisoned, physically and socially.\"\n",
    "x = sia.polarity_scores(sentence)\n",
    "print(x)\n",
    "x['compound']"
   ]
  },
  {
   "cell_type": "markdown",
   "metadata": {},
   "source": [
    "#### Pruebo con frases de un personaje"
   ]
  },
  {
   "cell_type": "code",
   "execution_count": 4,
   "metadata": {},
   "outputs": [],
   "source": [
    "import requests\n",
    "import pandas as pd"
   ]
  },
  {
   "cell_type": "code",
   "execution_count": 5,
   "metadata": {},
   "outputs": [
    {
     "data": {
      "text/html": [
       "<div>\n",
       "<style scoped>\n",
       "    .dataframe tbody tr th:only-of-type {\n",
       "        vertical-align: middle;\n",
       "    }\n",
       "\n",
       "    .dataframe tbody tr th {\n",
       "        vertical-align: top;\n",
       "    }\n",
       "\n",
       "    .dataframe thead th {\n",
       "        text-align: right;\n",
       "    }\n",
       "</style>\n",
       "<table border=\"1\" class=\"dataframe\">\n",
       "  <thead>\n",
       "    <tr style=\"text-align: right;\">\n",
       "      <th></th>\n",
       "      <th>sceneName</th>\n",
       "      <th>sceneID</th>\n",
       "      <th>userName</th>\n",
       "      <th>userID</th>\n",
       "      <th>dialog</th>\n",
       "      <th>dialogID</th>\n",
       "    </tr>\n",
       "  </thead>\n",
       "  <tbody>\n",
       "    <tr>\n",
       "      <th>0</th>\n",
       "      <td>HEADQUARTERS</td>\n",
       "      <td>1</td>\n",
       "      <td>joy</td>\n",
       "      <td>1</td>\n",
       "      <td>Hmm. This looks new.</td>\n",
       "      <td>1</td>\n",
       "    </tr>\n",
       "    <tr>\n",
       "      <th>1</th>\n",
       "      <td>HEADQUARTERS</td>\n",
       "      <td>1</td>\n",
       "      <td>joy</td>\n",
       "      <td>1</td>\n",
       "      <td>This is Disgust. She basically keeps Riley fro...</td>\n",
       "      <td>4</td>\n",
       "    </tr>\n",
       "  </tbody>\n",
       "</table>\n",
       "</div>"
      ],
      "text/plain": [
       "      sceneName  sceneID userName  userID  \\\n",
       "0  HEADQUARTERS        1      joy       1   \n",
       "1  HEADQUARTERS        1      joy       1   \n",
       "\n",
       "                                              dialog  dialogID  \n",
       "0                               Hmm. This looks new.         1  \n",
       "1  This is Disgust. She basically keeps Riley fro...         4  "
      ]
     },
     "execution_count": 5,
     "metadata": {},
     "output_type": "execute_result"
    }
   ],
   "source": [
    "charcaterUserDialogues = \"http://localhost:2020/characterdialogues/joy\"\n",
    "pd_joy = pd.DataFrame(requests.get(charcaterUserDialogues).json())\n",
    "pd_joy"
   ]
  },
  {
   "cell_type": "code",
   "execution_count": 6,
   "metadata": {},
   "outputs": [
    {
     "name": "stdout",
     "output_type": "stream",
     "text": [
      "Hmm. This looks new. {'neg': 0.0, 'neu': 1.0, 'pos': 0.0, 'compound': 0.0}\n",
      "This is Disgust. She basically keeps Riley from being poisoned, physically and socially. {'neg': 0.392, 'neu': 0.608, 'pos': 0.0, 'compound': -0.7964}\n"
     ]
    }
   ],
   "source": [
    "for e in pd_joy.dialog:\n",
    "    print (e,sia.polarity_scores(e) )\n",
    "    pd_joy['compound'] = sia.polarity_scores(e)['compound']\n",
    "    "
   ]
  },
  {
   "cell_type": "code",
   "execution_count": 7,
   "metadata": {},
   "outputs": [
    {
     "data": {
      "text/html": [
       "<div>\n",
       "<style scoped>\n",
       "    .dataframe tbody tr th:only-of-type {\n",
       "        vertical-align: middle;\n",
       "    }\n",
       "\n",
       "    .dataframe tbody tr th {\n",
       "        vertical-align: top;\n",
       "    }\n",
       "\n",
       "    .dataframe thead th {\n",
       "        text-align: right;\n",
       "    }\n",
       "</style>\n",
       "<table border=\"1\" class=\"dataframe\">\n",
       "  <thead>\n",
       "    <tr style=\"text-align: right;\">\n",
       "      <th></th>\n",
       "      <th>sceneName</th>\n",
       "      <th>sceneID</th>\n",
       "      <th>userName</th>\n",
       "      <th>userID</th>\n",
       "      <th>dialog</th>\n",
       "      <th>dialogID</th>\n",
       "    </tr>\n",
       "  </thead>\n",
       "  <tbody>\n",
       "    <tr>\n",
       "      <th>0</th>\n",
       "      <td>HEADQUARTERS</td>\n",
       "      <td>1</td>\n",
       "      <td>disgust</td>\n",
       "      <td>6</td>\n",
       "      <td>enters</td>\n",
       "      <td>3</td>\n",
       "    </tr>\n",
       "    <tr>\n",
       "      <th>1</th>\n",
       "      <td>HEADQUARTERS</td>\n",
       "      <td>1</td>\n",
       "      <td>disgust</td>\n",
       "      <td>6</td>\n",
       "      <td>That is not brightly colored or shaped like a ...</td>\n",
       "      <td>5</td>\n",
       "    </tr>\n",
       "  </tbody>\n",
       "</table>\n",
       "</div>"
      ],
      "text/plain": [
       "      sceneName  sceneID userName  userID  \\\n",
       "0  HEADQUARTERS        1  disgust       6   \n",
       "1  HEADQUARTERS        1  disgust       6   \n",
       "\n",
       "                                              dialog  dialogID  \n",
       "0                                             enters         3  \n",
       "1  That is not brightly colored or shaped like a ...         5  "
      ]
     },
     "execution_count": 7,
     "metadata": {},
     "output_type": "execute_result"
    }
   ],
   "source": [
    "charcaterUserDialogues = \"http://localhost:2020/characterdialogues/disgust\"\n",
    "pd_disgust = pd.DataFrame(requests.get(charcaterUserDialogues).json())\n",
    "pd_disgust"
   ]
  },
  {
   "cell_type": "code",
   "execution_count": 8,
   "metadata": {},
   "outputs": [
    {
     "name": "stdout",
     "output_type": "stream",
     "text": [
      "enters {'neg': 0.0, 'neu': 1.0, 'pos': 0.0, 'compound': 0.0}\n",
      "That is not brightly colored or shaped like a dinosaur... Hold on guys... It’s broccoli! Disgust GAGS and pulls a lever. {'neg': 0.254, 'neu': 0.645, 'pos': 0.101, 'compound': -0.5862}\n"
     ]
    }
   ],
   "source": [
    "for e in pd_disgust.dialog:\n",
    "    print (e,sia.polarity_scores(e) )\n",
    "    pd_disgust['compound'] = sia.polarity_scores(e)['compound']"
   ]
  },
  {
   "cell_type": "markdown",
   "metadata": {},
   "source": [
    "#### Análisis escena y resultado por personaje:"
   ]
  },
  {
   "cell_type": "code",
   "execution_count": 17,
   "metadata": {},
   "outputs": [
    {
     "name": "stdout",
     "output_type": "stream",
     "text": [
      "Hmm. This looks new. {'neg': 0.0, 'neu': 1.0, 'pos': 0.0, 'compound': 0.0}\n",
      "Do you think it’s safe? What is it? {'neg': 0.0, 'neu': 0.682, 'pos': 0.318, 'compound': 0.504}\n",
      "enters {'neg': 0.0, 'neu': 1.0, 'pos': 0.0, 'compound': 0.0}\n",
      "This is Disgust. She basically keeps Riley from being poisoned, physically and socially. {'neg': 0.392, 'neu': 0.608, 'pos': 0.0, 'compound': -0.7964}\n",
      "That is not brightly colored or shaped like a dinosaur... Hold on guys... It’s broccoli! Disgust GAGS and pulls a lever. {'neg': 0.254, 'neu': 0.645, 'pos': 0.101, 'compound': -0.5862}\n",
      "[0.0, 0.504, 0.0, -0.7964, -0.5862]\n"
     ]
    }
   ],
   "source": [
    "urlDialogues = f\"http://localhost:2020/scenedialogues/HEADQUARTERS\"\n",
    "df_scene = pd.DataFrame(requests.get(urlDialogues).json())\n",
    "lista_comp = []\n",
    "for e in df_scene.dialog:\n",
    "    print (e,sia.polarity_scores(e) )\n",
    "\n",
    "    lista_comp.append(sia.polarity_scores(e)['compound'])\n",
    "print(lista_comp)\n",
    "df_scene['compound'] = lista_comp\n"
   ]
  },
  {
   "cell_type": "code",
   "execution_count": 18,
   "metadata": {},
   "outputs": [
    {
     "data": {
      "text/html": [
       "<div>\n",
       "<style scoped>\n",
       "    .dataframe tbody tr th:only-of-type {\n",
       "        vertical-align: middle;\n",
       "    }\n",
       "\n",
       "    .dataframe tbody tr th {\n",
       "        vertical-align: top;\n",
       "    }\n",
       "\n",
       "    .dataframe thead th {\n",
       "        text-align: right;\n",
       "    }\n",
       "</style>\n",
       "<table border=\"1\" class=\"dataframe\">\n",
       "  <thead>\n",
       "    <tr style=\"text-align: right;\">\n",
       "      <th></th>\n",
       "      <th>sceneName</th>\n",
       "      <th>sceneID</th>\n",
       "      <th>userName</th>\n",
       "      <th>userID</th>\n",
       "      <th>dialog</th>\n",
       "      <th>dialogID</th>\n",
       "      <th>compound</th>\n",
       "    </tr>\n",
       "  </thead>\n",
       "  <tbody>\n",
       "    <tr>\n",
       "      <th>0</th>\n",
       "      <td>HEADQUARTERS</td>\n",
       "      <td>1</td>\n",
       "      <td>joy</td>\n",
       "      <td>1</td>\n",
       "      <td>Hmm. This looks new.</td>\n",
       "      <td>1</td>\n",
       "      <td>0.0000</td>\n",
       "    </tr>\n",
       "    <tr>\n",
       "      <th>1</th>\n",
       "      <td>HEADQUARTERS</td>\n",
       "      <td>1</td>\n",
       "      <td>sadness</td>\n",
       "      <td>4</td>\n",
       "      <td>Do you think it’s safe? What is it?</td>\n",
       "      <td>2</td>\n",
       "      <td>0.5040</td>\n",
       "    </tr>\n",
       "    <tr>\n",
       "      <th>2</th>\n",
       "      <td>HEADQUARTERS</td>\n",
       "      <td>1</td>\n",
       "      <td>disgust</td>\n",
       "      <td>6</td>\n",
       "      <td>enters</td>\n",
       "      <td>3</td>\n",
       "      <td>0.0000</td>\n",
       "    </tr>\n",
       "    <tr>\n",
       "      <th>3</th>\n",
       "      <td>HEADQUARTERS</td>\n",
       "      <td>1</td>\n",
       "      <td>joy</td>\n",
       "      <td>1</td>\n",
       "      <td>This is Disgust. She basically keeps Riley fro...</td>\n",
       "      <td>4</td>\n",
       "      <td>-0.7964</td>\n",
       "    </tr>\n",
       "    <tr>\n",
       "      <th>4</th>\n",
       "      <td>HEADQUARTERS</td>\n",
       "      <td>1</td>\n",
       "      <td>disgust</td>\n",
       "      <td>6</td>\n",
       "      <td>That is not brightly colored or shaped like a ...</td>\n",
       "      <td>5</td>\n",
       "      <td>-0.5862</td>\n",
       "    </tr>\n",
       "  </tbody>\n",
       "</table>\n",
       "</div>"
      ],
      "text/plain": [
       "      sceneName  sceneID userName  userID  \\\n",
       "0  HEADQUARTERS        1      joy       1   \n",
       "1  HEADQUARTERS        1  sadness       4   \n",
       "2  HEADQUARTERS        1  disgust       6   \n",
       "3  HEADQUARTERS        1      joy       1   \n",
       "4  HEADQUARTERS        1  disgust       6   \n",
       "\n",
       "                                              dialog  dialogID  compound  \n",
       "0                               Hmm. This looks new.         1    0.0000  \n",
       "1                Do you think it’s safe? What is it?         2    0.5040  \n",
       "2                                             enters         3    0.0000  \n",
       "3  This is Disgust. She basically keeps Riley fro...         4   -0.7964  \n",
       "4  That is not brightly colored or shaped like a ...         5   -0.5862  "
      ]
     },
     "execution_count": 18,
     "metadata": {},
     "output_type": "execute_result"
    }
   ],
   "source": [
    "df_scene"
   ]
  },
  {
   "cell_type": "code",
   "execution_count": 27,
   "metadata": {},
   "outputs": [
    {
     "data": {
      "text/plain": [
       "'[{\"sceneName\":\"HEADQUARTERS\",\"sceneID\":1,\"userName\":\"joy\",\"userID\":1,\"dialog\":\"Hmm. This looks new.\",\"dialogID\":1,\"compound\":0.0},{\"sceneName\":\"HEADQUARTERS\",\"sceneID\":1,\"userName\":\"sadness\",\"userID\":4,\"dialog\":\"Do you think it’s safe? What is it?\",\"dialogID\":2,\"compound\":0.504},{\"sceneName\":\"HEADQUARTERS\",\"sceneID\":1,\"userName\":\"disgust\",\"userID\":6,\"dialog\":\"enters\",\"dialogID\":3,\"compound\":0.0},{\"sceneName\":\"HEADQUARTERS\",\"sceneID\":1,\"userName\":\"joy\",\"userID\":1,\"dialog\":\"This is Disgust. She basically keeps Riley from being poisoned, physically and socially.\",\"dialogID\":4,\"compound\":-0.7964},{\"sceneName\":\"HEADQUARTERS\",\"sceneID\":1,\"userName\":\"disgust\",\"userID\":6,\"dialog\":\"That is not brightly colored or shaped like a dinosaur... Hold on guys... It’s broccoli! Disgust GAGS and pulls a lever.\",\"dialogID\":5,\"compound\":-0.5862}]'"
      ]
     },
     "execution_count": 27,
     "metadata": {},
     "output_type": "execute_result"
    }
   ],
   "source": [
    "df_scene.to_json(orient = 'records',force_ascii=False)"
   ]
  },
  {
   "cell_type": "code",
   "execution_count": 29,
   "metadata": {},
   "outputs": [
    {
     "data": {
      "text/plain": [
       "-0.17572000000000002"
      ]
     },
     "execution_count": 29,
     "metadata": {},
     "output_type": "execute_result"
    }
   ],
   "source": [
    "df_scene['compound'].mean()"
   ]
  },
  {
   "cell_type": "code",
   "execution_count": null,
   "metadata": {},
   "outputs": [],
   "source": []
  }
 ],
 "metadata": {
  "kernelspec": {
   "display_name": "Python 3",
   "language": "python",
   "name": "python3"
  },
  "language_info": {
   "codemirror_mode": {
    "name": "ipython",
    "version": 3
   },
   "file_extension": ".py",
   "mimetype": "text/x-python",
   "name": "python",
   "nbconvert_exporter": "python",
   "pygments_lexer": "ipython3",
   "version": "3.7.6"
  }
 },
 "nbformat": 4,
 "nbformat_minor": 4
}
