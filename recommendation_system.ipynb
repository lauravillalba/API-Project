{
 "cells": [
  {
   "cell_type": "code",
   "execution_count": 1,
   "metadata": {},
   "outputs": [],
   "source": [
    "from sklearn.feature_extraction.text import CountVectorizer\n",
    "import requests\n",
    "import pandas as pd\n",
    "from sklearn.metrics.pairwise import cosine_similarity as distance\n",
    "import seaborn as sns\n",
    "import matplotlib.pyplot as plt"
   ]
  },
  {
   "cell_type": "markdown",
   "metadata": {},
   "source": [
    "Hay que recopilar todas las frases de todos los personajes"
   ]
  },
  {
   "cell_type": "code",
   "execution_count": 2,
   "metadata": {},
   "outputs": [
    {
     "name": "stdout",
     "output_type": "stream",
     "text": [
      "[{'userID': 2, 'userName': 'mom', 'userSentiment': 0.2505264705882353}, {'userID': 3, 'userName': 'dad', 'userSentiment': -0.07417333333333334}, {'userID': 4, 'userName': 'sadness', 'userSentiment': 0.031578048780487804}, {'userID': 5, 'userName': 'fear', 'userSentiment': nan}, {'userID': 6, 'userName': 'disgust', 'userSentiment': 0.08455757575757576}, {'userID': 7, 'userName': 'riley', 'userSentiment': 0.16768928571428574}, {'userID': 8, 'userName': 'anger', 'userSentiment': 0.012291891891891882}, {'userID': 9, 'userName': 'mum-sadness', 'userSentiment': -0.07016}, {'userID': 10, 'userName': 'mum-anger', 'userSentiment': nan}, {'userID': 11, 'userName': 'mum-joy', 'userSentiment': nan}, {'userID': 12, 'userName': 'mum-fear', 'userSentiment': 0.0}, {'userID': 13, 'userName': 'dad-anger', 'userSentiment': 0.1504}, {'userID': 14, 'userName': 'dad-fear', 'userSentiment': 0.2775666666666667}, {'userID': 15, 'userName': 'mum-disgust', 'userSentiment': -0.15657500000000002}, {'userID': 16, 'userName': 'male-forgetter', 'userSentiment': nan}, {'userID': 17, 'userName': 'bing-bong', 'userSentiment': nan}, {'userName': 'joy', 'userID': 1, 'userSentiment': 0.0061219178082191775}, {'userID': 0, 'userName': 'pruebaUser', 'userSentiment': 0}]\n"
     ]
    },
    {
     "data": {
      "text/plain": [
       "['dad',\n",
       " 'sadness',\n",
       " 'fear',\n",
       " 'disgust',\n",
       " 'riley',\n",
       " 'anger',\n",
       " 'mum-sadness',\n",
       " 'mum-anger',\n",
       " 'mum-joy',\n",
       " 'mum-fear',\n",
       " 'dad-anger',\n",
       " 'dad-fear',\n",
       " 'mum-disgust',\n",
       " 'male-forgetter',\n",
       " 'bing-bong',\n",
       " 'joy',\n",
       " 'pruebaUser']"
      ]
     },
     "execution_count": 2,
     "metadata": {},
     "output_type": "execute_result"
    }
   ],
   "source": [
    "urlUsersNames = \"http://localhost:2020/usersnames/\"\n",
    "userNames = requests.get(urlUsersNames).json()\n",
    "characters = []\n",
    "print(userNames)\n",
    "for user in userNames:\n",
    "    characters.append(user['userName'])\n",
    "\n",
    "characters = characters[1:]\n",
    "characters\n",
    " "
   ]
  },
  {
   "cell_type": "code",
   "execution_count": 3,
   "metadata": {},
   "outputs": [
    {
     "name": "stdout",
     "output_type": "stream",
     "text": [
      "dad\n",
      "sadness\n",
      "disgust\n",
      "riley\n",
      "anger\n",
      "mum-sadness\n",
      "mum-fear\n",
      "dad-anger\n",
      "dad-fear\n",
      "mum-disgust\n",
      "joy\n",
      "pruebaUser\n"
     ]
    }
   ],
   "source": [
    "big_dict = {}\n",
    "for c in characters:\n",
    "    \n",
    "    charcaterUserDialogues = f\"http://localhost:2020/characterdialogues/{c}\"\n",
    "    all_dialogs = pd.DataFrame(requests.get(charcaterUserDialogues).json())\n",
    "    lista = []\n",
    "    if 'dialog' in list(all_dialogs.columns):\n",
    "        print(c)\n",
    "        for d in all_dialogs['dialog']:\n",
    "            lista.append(d)\n",
    "        big_dict[c] = ' '.join(lista)\n"
   ]
  },
  {
   "cell_type": "code",
   "execution_count": 4,
   "metadata": {},
   "outputs": [
    {
     "name": "stdout",
     "output_type": "stream",
     "text": [
      "(12, 970)\n",
      "[[0 0 0 0 0 0 0 0 0 0 0 0 0 1 0 0 0 0 1 0 0 0 1 0 0 0 1 0 0 0 0 2 0 0 0 1\n",
      "  0 0 0 0 0 0 0 0 0 0 0 3 0 0 1 0 0 2 0 0 0 0 0 0 1 0 0 0 0 0 1 1 0 1 0 0\n",
      "  0 0 0 0 0 0 1 0 0 0 0 0 0 0 0 0 0 0 0 0 0 0 0 0 0 0 0 0 1 0 0 0 1 0 1 0\n",
      "  0 0 1 0 3 0 1 0 0 0 0 0 0 0 0 0 0 0 0 0 0 0 0 0 0 0 0 0 0 0 0 0 1 0 0 0\n",
      "  0 0 0 0 0 0 0 0 0 0 0 0 0 0 1 0 0 0 0 0 0 0 0 0 0 0 0 2 1 0 0 0 0 1 0 0\n",
      "  2 0 0 0 0 0 0 0 0 0 0 0 0 0 0 0 0 1 0 2 1 0 0 0 0 1 0 0 0 0 0 0 0 0 0 0\n",
      "  1 0 1 0 0 0 0 0 0 0 0 0 0 1 0 0 0 0 0 0 0 1 0 0 0 0 0 0 0 0 0 0 0 0 0 1\n",
      "  0 0 0 0 0 0 0 0 0 0 0 0 0 0 0 1 0 0 0 0 0 0 0 0 0 0 0 0 0 0 0 0 0 0 1 0\n",
      "  0 0 0 0 0 0 0 0 2 0 0 0 0 0 0 0 0 0 0 0 2 0 0 0 0 1 0 0 0 0 0 0 1 0 1 1\n",
      "  0 0 1 0 0 1 0 0 0 0 0 0 0 0 0 0 0 0 0 0 0 0 0 0 0 0 0 0 0 0 0 0 1 2 0 0\n",
      "  0 0 0 0 0 1 0 0 0 0 1 0 0 0 1 0 0 0 1 0 0 0 0 0 0 0 0 0 1 0 0 0 0 0 1 1\n",
      "  1 1 0 0 0 0 0 0 0 1 0 0 0 0 0 1 0 3 0 0 0 0 0 0 1 1 0 1 0 0 0 0 0 0 4 1\n",
      "  0 0 0 0 0 0 0 0 0 0 0 0 0 0 0 0 0 1 1 0 1 0 0 0 1 1 0 0 0 1 0 0 0 0 0 0\n",
      "  0 0 0 0 0 0 0 0 0 1 0 0 0 1 1 1 1 0 0 0 0 0 0 1 0 0 0 0 0 0 0 0 0 0 0 0\n",
      "  1 0 0 0 1 0 0 0 0 1 0 2 0 0 0 0 0 0 0 0 0 0 0 0 0 0 1 1 0 1 0 0 0 0 0 0\n",
      "  4 1 1 0 2 1 0 0 0 0 1 0 0 0 1 0 0 0 1 1 0 0 0 1 0 0 0 0 3 0 2 0 0 0 1 0\n",
      "  0 0 0 0 1 0 1 0 0 0 0 0 0 0 0 0 1 1 1 1 0 1 0 1 0 0 0 0 0 0 0 1 0 1 0 0\n",
      "  0 0 0 5 1 0 0 0 0 0 0 0 0 0 0 0 0 0 0 0 0 0 0 0 0 0 0 0 0 0 0 1 0 0 0 0\n",
      "  0 2 0 0 0 0 1 0 0 0 0 0 0 0 0 0 0 0 7 0 0 0 1 0 0 0 0 1 0 0 0 0 0 0 0 0\n",
      "  0 0 0 0 0 0 0 0 0 0 0 0 0 0 0 0 0 0 0 0 0 0 0 3 0 0 0 1 0 0 0 0 0 0 1 0\n",
      "  0 0 0 0 0 0 0 0 0 0 0 0 0 0 0 0 0 0 0 0 0 0 0 0 0 0 0 0 0 0 0 1 1 1 0 0\n",
      "  0 0 0 0 0 0 0 0 1 0 0 1 0 0 0 1 0 0 0 0 0 0 0 0 0 0 0 0 0 0 0 0 0 0 1 0\n",
      "  0 0 0 0 0 0 0 0 0 0 0 1 0 0 0 1 0 0 0 0 0 0 0 0 0 0 0 0 1 0 7 0 0 1 1 0\n",
      "  0 0 0 0 0 4 0 0 0 1 0 0 0 0 1 0 0 4 0 0 0 0 0 0 0 0 0 1 1 0 0 0 0 0 0 0\n",
      "  0 0 0 0 0 0 0 1 0 0 0 0 0 0 0 0 0 0 1 0 1 0 0 0 0 0 0 2 0 1 0 0 0 0 0 0\n",
      "  0 0 0 1 0 1 0 0 0 0 0 0 0 0 1 0 0 0 0 7 0 0 0 0 0 1 0 0 0 3 0 1 0 1 0 0\n",
      "  0 0 0 0 0 0 0 0 1 0 0 0 0 1 0 0 0 0 0 0 0 0 0 0 0 0 0 5 0 1 1 0 0 0]]\n"
     ]
    }
   ],
   "source": [
    "count_vectorizer = CountVectorizer()\n",
    "sparse_matrix = count_vectorizer.fit_transform(big_dict.values())\n",
    "#print(list(count_vectorizer.vocabulary_.keys()))\n",
    "m = sparse_matrix.todense()\n",
    "print(m.shape)\n",
    "print(m[0])"
   ]
  },
  {
   "cell_type": "code",
   "execution_count": 5,
   "metadata": {},
   "outputs": [
    {
     "data": {
      "text/html": [
       "<div>\n",
       "<style scoped>\n",
       "    .dataframe tbody tr th:only-of-type {\n",
       "        vertical-align: middle;\n",
       "    }\n",
       "\n",
       "    .dataframe tbody tr th {\n",
       "        vertical-align: top;\n",
       "    }\n",
       "\n",
       "    .dataframe thead th {\n",
       "        text-align: right;\n",
       "    }\n",
       "</style>\n",
       "<table border=\"1\" class=\"dataframe\">\n",
       "  <thead>\n",
       "    <tr style=\"text-align: right;\">\n",
       "      <th></th>\n",
       "      <th>1ew</th>\n",
       "      <th>1haven</th>\n",
       "      <th>32</th>\n",
       "      <th>39</th>\n",
       "      <th>62</th>\n",
       "      <th>about</th>\n",
       "      <th>aboutscaring</th>\n",
       "      <th>absolutely</th>\n",
       "      <th>acted</th>\n",
       "      <th>acting</th>\n",
       "      <th>...</th>\n",
       "      <th>year</th>\n",
       "      <th>yell</th>\n",
       "      <th>yellow</th>\n",
       "      <th>you</th>\n",
       "      <th>youdoing</th>\n",
       "      <th>young</th>\n",
       "      <th>your</th>\n",
       "      <th>youtell</th>\n",
       "      <th>youwant</th>\n",
       "      <th>zoom</th>\n",
       "    </tr>\n",
       "  </thead>\n",
       "  <tbody>\n",
       "    <tr>\n",
       "      <th>dad</th>\n",
       "      <td>0</td>\n",
       "      <td>0</td>\n",
       "      <td>0</td>\n",
       "      <td>0</td>\n",
       "      <td>0</td>\n",
       "      <td>0</td>\n",
       "      <td>0</td>\n",
       "      <td>0</td>\n",
       "      <td>0</td>\n",
       "      <td>0</td>\n",
       "      <td>...</td>\n",
       "      <td>0</td>\n",
       "      <td>0</td>\n",
       "      <td>0</td>\n",
       "      <td>5</td>\n",
       "      <td>0</td>\n",
       "      <td>1</td>\n",
       "      <td>1</td>\n",
       "      <td>0</td>\n",
       "      <td>0</td>\n",
       "      <td>0</td>\n",
       "    </tr>\n",
       "    <tr>\n",
       "      <th>sadness</th>\n",
       "      <td>0</td>\n",
       "      <td>0</td>\n",
       "      <td>0</td>\n",
       "      <td>0</td>\n",
       "      <td>0</td>\n",
       "      <td>0</td>\n",
       "      <td>0</td>\n",
       "      <td>0</td>\n",
       "      <td>0</td>\n",
       "      <td>0</td>\n",
       "      <td>...</td>\n",
       "      <td>0</td>\n",
       "      <td>0</td>\n",
       "      <td>0</td>\n",
       "      <td>4</td>\n",
       "      <td>0</td>\n",
       "      <td>0</td>\n",
       "      <td>1</td>\n",
       "      <td>0</td>\n",
       "      <td>0</td>\n",
       "      <td>0</td>\n",
       "    </tr>\n",
       "    <tr>\n",
       "      <th>disgust</th>\n",
       "      <td>0</td>\n",
       "      <td>0</td>\n",
       "      <td>0</td>\n",
       "      <td>0</td>\n",
       "      <td>0</td>\n",
       "      <td>0</td>\n",
       "      <td>0</td>\n",
       "      <td>0</td>\n",
       "      <td>0</td>\n",
       "      <td>2</td>\n",
       "      <td>...</td>\n",
       "      <td>0</td>\n",
       "      <td>0</td>\n",
       "      <td>0</td>\n",
       "      <td>5</td>\n",
       "      <td>0</td>\n",
       "      <td>0</td>\n",
       "      <td>0</td>\n",
       "      <td>0</td>\n",
       "      <td>0</td>\n",
       "      <td>0</td>\n",
       "    </tr>\n",
       "    <tr>\n",
       "      <th>riley</th>\n",
       "      <td>1</td>\n",
       "      <td>0</td>\n",
       "      <td>0</td>\n",
       "      <td>0</td>\n",
       "      <td>1</td>\n",
       "      <td>2</td>\n",
       "      <td>0</td>\n",
       "      <td>0</td>\n",
       "      <td>0</td>\n",
       "      <td>0</td>\n",
       "      <td>...</td>\n",
       "      <td>1</td>\n",
       "      <td>0</td>\n",
       "      <td>0</td>\n",
       "      <td>3</td>\n",
       "      <td>0</td>\n",
       "      <td>0</td>\n",
       "      <td>1</td>\n",
       "      <td>1</td>\n",
       "      <td>0</td>\n",
       "      <td>1</td>\n",
       "    </tr>\n",
       "    <tr>\n",
       "      <th>anger</th>\n",
       "      <td>0</td>\n",
       "      <td>0</td>\n",
       "      <td>1</td>\n",
       "      <td>0</td>\n",
       "      <td>0</td>\n",
       "      <td>0</td>\n",
       "      <td>0</td>\n",
       "      <td>1</td>\n",
       "      <td>0</td>\n",
       "      <td>0</td>\n",
       "      <td>...</td>\n",
       "      <td>0</td>\n",
       "      <td>1</td>\n",
       "      <td>0</td>\n",
       "      <td>9</td>\n",
       "      <td>0</td>\n",
       "      <td>0</td>\n",
       "      <td>0</td>\n",
       "      <td>0</td>\n",
       "      <td>1</td>\n",
       "      <td>0</td>\n",
       "    </tr>\n",
       "  </tbody>\n",
       "</table>\n",
       "<p>5 rows × 970 columns</p>\n",
       "</div>"
      ],
      "text/plain": [
       "         1ew  1haven  32  39  62  about  aboutscaring  absolutely  acted  \\\n",
       "dad        0       0   0   0   0      0             0           0      0   \n",
       "sadness    0       0   0   0   0      0             0           0      0   \n",
       "disgust    0       0   0   0   0      0             0           0      0   \n",
       "riley      1       0   0   0   1      2             0           0      0   \n",
       "anger      0       0   1   0   0      0             0           1      0   \n",
       "\n",
       "         acting  ...  year  yell  yellow  you  youdoing  young  your  youtell  \\\n",
       "dad           0  ...     0     0       0    5         0      1     1        0   \n",
       "sadness       0  ...     0     0       0    4         0      0     1        0   \n",
       "disgust       2  ...     0     0       0    5         0      0     0        0   \n",
       "riley         0  ...     1     0       0    3         0      0     1        1   \n",
       "anger         0  ...     0     1       0    9         0      0     0        0   \n",
       "\n",
       "         youwant  zoom  \n",
       "dad            0     0  \n",
       "sadness        0     0  \n",
       "disgust        0     0  \n",
       "riley          0     1  \n",
       "anger          1     0  \n",
       "\n",
       "[5 rows x 970 columns]"
      ]
     },
     "metadata": {},
     "output_type": "display_data"
    },
    {
     "data": {
      "text/html": [
       "<div>\n",
       "<style scoped>\n",
       "    .dataframe tbody tr th:only-of-type {\n",
       "        vertical-align: middle;\n",
       "    }\n",
       "\n",
       "    .dataframe tbody tr th {\n",
       "        vertical-align: top;\n",
       "    }\n",
       "\n",
       "    .dataframe thead th {\n",
       "        text-align: right;\n",
       "    }\n",
       "</style>\n",
       "<table border=\"1\" class=\"dataframe\">\n",
       "  <thead>\n",
       "    <tr style=\"text-align: right;\">\n",
       "      <th></th>\n",
       "      <th>joy</th>\n",
       "      <th>mom</th>\n",
       "    </tr>\n",
       "  </thead>\n",
       "  <tbody>\n",
       "    <tr>\n",
       "      <th>dad</th>\n",
       "      <td>0</td>\n",
       "      <td>0</td>\n",
       "    </tr>\n",
       "    <tr>\n",
       "      <th>sadness</th>\n",
       "      <td>12</td>\n",
       "      <td>2</td>\n",
       "    </tr>\n",
       "    <tr>\n",
       "      <th>disgust</th>\n",
       "      <td>5</td>\n",
       "      <td>1</td>\n",
       "    </tr>\n",
       "    <tr>\n",
       "      <th>riley</th>\n",
       "      <td>1</td>\n",
       "      <td>5</td>\n",
       "    </tr>\n",
       "    <tr>\n",
       "      <th>anger</th>\n",
       "      <td>2</td>\n",
       "      <td>3</td>\n",
       "    </tr>\n",
       "    <tr>\n",
       "      <th>mum-sadness</th>\n",
       "      <td>0</td>\n",
       "      <td>3</td>\n",
       "    </tr>\n",
       "    <tr>\n",
       "      <th>mum-fear</th>\n",
       "      <td>0</td>\n",
       "      <td>0</td>\n",
       "    </tr>\n",
       "    <tr>\n",
       "      <th>dad-anger</th>\n",
       "      <td>0</td>\n",
       "      <td>1</td>\n",
       "    </tr>\n",
       "    <tr>\n",
       "      <th>dad-fear</th>\n",
       "      <td>0</td>\n",
       "      <td>0</td>\n",
       "    </tr>\n",
       "    <tr>\n",
       "      <th>mum-disgust</th>\n",
       "      <td>0</td>\n",
       "      <td>0</td>\n",
       "    </tr>\n",
       "    <tr>\n",
       "      <th>joy</th>\n",
       "      <td>25</td>\n",
       "      <td>0</td>\n",
       "    </tr>\n",
       "    <tr>\n",
       "      <th>pruebaUser</th>\n",
       "      <td>0</td>\n",
       "      <td>0</td>\n",
       "    </tr>\n",
       "  </tbody>\n",
       "</table>\n",
       "</div>"
      ],
      "text/plain": [
       "             joy  mom\n",
       "dad            0    0\n",
       "sadness       12    2\n",
       "disgust        5    1\n",
       "riley          1    5\n",
       "anger          2    3\n",
       "mum-sadness    0    3\n",
       "mum-fear       0    0\n",
       "dad-anger      0    1\n",
       "dad-fear       0    0\n",
       "mum-disgust    0    0\n",
       "joy           25    0\n",
       "pruebaUser     0    0"
      ]
     },
     "metadata": {},
     "output_type": "display_data"
    }
   ],
   "source": [
    "doc_term_matrix = sparse_matrix.todense()\n",
    "df = pd.DataFrame(doc_term_matrix, \n",
    "                  columns=count_vectorizer.get_feature_names(), \n",
    "                  index=big_dict.keys())\n",
    "display(df.head())\n",
    "display(df[[\"joy\",\"mom\"]])"
   ]
  },
  {
   "cell_type": "code",
   "execution_count": 6,
   "metadata": {},
   "outputs": [
    {
     "name": "stdout",
     "output_type": "stream",
     "text": [
      "[[1.         0.54603005 0.54033552 0.57999756 0.58152255 0.33441679\n",
      "  0.07800765 0.39346523 0.21465674 0.29640758 0.58559281 0.        ]\n",
      " [0.54603005 1.         0.62056274 0.66794086 0.68407733 0.38797618\n",
      "  0.12726726 0.50855604 0.33056066 0.27162823 0.78631674 0.        ]\n",
      " [0.54033552 0.62056274 1.         0.54717427 0.62702089 0.35434268\n",
      "  0.10526899 0.49797731 0.30097718 0.31148406 0.65906372 0.        ]\n",
      " [0.57999756 0.66794086 0.54717427 1.         0.5866466  0.39528978\n",
      "  0.10092947 0.49425372 0.33869711 0.31822689 0.66387397 0.        ]\n",
      " [0.58152255 0.68407733 0.62702089 0.5866466  1.         0.41016935\n",
      "  0.         0.50692401 0.28236209 0.37145111 0.68856212 0.        ]\n",
      " [0.33441679 0.38797618 0.35434268 0.39528978 0.41016935 1.\n",
      "  0.         0.30323807 0.22378448 0.25672693 0.43552493 0.        ]\n",
      " [0.07800765 0.12726726 0.10526899 0.10092947 0.         0.\n",
      "  1.         0.04897021 0.06711561 0.         0.0559796  0.        ]\n",
      " [0.39346523 0.50855604 0.49797731 0.49425372 0.50692401 0.30323807\n",
      "  0.04897021 1.         0.39439984 0.26129445 0.56169909 0.        ]\n",
      " [0.21465674 0.33056066 0.30097718 0.33869711 0.28236209 0.22378448\n",
      "  0.06711561 0.39439984 1.         0.22789095 0.40125879 0.        ]\n",
      " [0.29640758 0.27162823 0.31148406 0.31822689 0.37145111 0.25672693\n",
      "  0.         0.26129445 0.22789095 1.         0.32313373 0.        ]\n",
      " [0.58559281 0.78631674 0.65906372 0.66387397 0.68856212 0.43552493\n",
      "  0.0559796  0.56169909 0.40125879 0.32313373 1.         0.        ]\n",
      " [0.         0.         0.         0.         0.         0.\n",
      "  0.         0.         0.         0.         0.         1.        ]]\n"
     ]
    }
   ],
   "source": [
    "similarity_matrix = distance(df,df)\n",
    "print(similarity_matrix)"
   ]
  },
  {
   "cell_type": "code",
   "execution_count": 7,
   "metadata": {},
   "outputs": [
    {
     "data": {
      "text/html": [
       "<div>\n",
       "<style scoped>\n",
       "    .dataframe tbody tr th:only-of-type {\n",
       "        vertical-align: middle;\n",
       "    }\n",
       "\n",
       "    .dataframe tbody tr th {\n",
       "        vertical-align: top;\n",
       "    }\n",
       "\n",
       "    .dataframe thead th {\n",
       "        text-align: right;\n",
       "    }\n",
       "</style>\n",
       "<table border=\"1\" class=\"dataframe\">\n",
       "  <thead>\n",
       "    <tr style=\"text-align: right;\">\n",
       "      <th></th>\n",
       "      <th>dad</th>\n",
       "      <th>sadness</th>\n",
       "      <th>disgust</th>\n",
       "      <th>riley</th>\n",
       "      <th>anger</th>\n",
       "      <th>mum-sadness</th>\n",
       "      <th>mum-fear</th>\n",
       "      <th>dad-anger</th>\n",
       "      <th>dad-fear</th>\n",
       "      <th>mum-disgust</th>\n",
       "      <th>joy</th>\n",
       "      <th>pruebaUser</th>\n",
       "    </tr>\n",
       "  </thead>\n",
       "  <tbody>\n",
       "    <tr>\n",
       "      <th>dad</th>\n",
       "      <td>1.000000</td>\n",
       "      <td>0.546030</td>\n",
       "      <td>0.540336</td>\n",
       "      <td>0.579998</td>\n",
       "      <td>0.581523</td>\n",
       "      <td>0.334417</td>\n",
       "      <td>0.078008</td>\n",
       "      <td>0.393465</td>\n",
       "      <td>0.214657</td>\n",
       "      <td>0.296408</td>\n",
       "      <td>0.585593</td>\n",
       "      <td>0.0</td>\n",
       "    </tr>\n",
       "    <tr>\n",
       "      <th>sadness</th>\n",
       "      <td>0.546030</td>\n",
       "      <td>1.000000</td>\n",
       "      <td>0.620563</td>\n",
       "      <td>0.667941</td>\n",
       "      <td>0.684077</td>\n",
       "      <td>0.387976</td>\n",
       "      <td>0.127267</td>\n",
       "      <td>0.508556</td>\n",
       "      <td>0.330561</td>\n",
       "      <td>0.271628</td>\n",
       "      <td>0.786317</td>\n",
       "      <td>0.0</td>\n",
       "    </tr>\n",
       "    <tr>\n",
       "      <th>disgust</th>\n",
       "      <td>0.540336</td>\n",
       "      <td>0.620563</td>\n",
       "      <td>1.000000</td>\n",
       "      <td>0.547174</td>\n",
       "      <td>0.627021</td>\n",
       "      <td>0.354343</td>\n",
       "      <td>0.105269</td>\n",
       "      <td>0.497977</td>\n",
       "      <td>0.300977</td>\n",
       "      <td>0.311484</td>\n",
       "      <td>0.659064</td>\n",
       "      <td>0.0</td>\n",
       "    </tr>\n",
       "    <tr>\n",
       "      <th>riley</th>\n",
       "      <td>0.579998</td>\n",
       "      <td>0.667941</td>\n",
       "      <td>0.547174</td>\n",
       "      <td>1.000000</td>\n",
       "      <td>0.586647</td>\n",
       "      <td>0.395290</td>\n",
       "      <td>0.100929</td>\n",
       "      <td>0.494254</td>\n",
       "      <td>0.338697</td>\n",
       "      <td>0.318227</td>\n",
       "      <td>0.663874</td>\n",
       "      <td>0.0</td>\n",
       "    </tr>\n",
       "    <tr>\n",
       "      <th>anger</th>\n",
       "      <td>0.581523</td>\n",
       "      <td>0.684077</td>\n",
       "      <td>0.627021</td>\n",
       "      <td>0.586647</td>\n",
       "      <td>1.000000</td>\n",
       "      <td>0.410169</td>\n",
       "      <td>0.000000</td>\n",
       "      <td>0.506924</td>\n",
       "      <td>0.282362</td>\n",
       "      <td>0.371451</td>\n",
       "      <td>0.688562</td>\n",
       "      <td>0.0</td>\n",
       "    </tr>\n",
       "    <tr>\n",
       "      <th>mum-sadness</th>\n",
       "      <td>0.334417</td>\n",
       "      <td>0.387976</td>\n",
       "      <td>0.354343</td>\n",
       "      <td>0.395290</td>\n",
       "      <td>0.410169</td>\n",
       "      <td>1.000000</td>\n",
       "      <td>0.000000</td>\n",
       "      <td>0.303238</td>\n",
       "      <td>0.223784</td>\n",
       "      <td>0.256727</td>\n",
       "      <td>0.435525</td>\n",
       "      <td>0.0</td>\n",
       "    </tr>\n",
       "    <tr>\n",
       "      <th>mum-fear</th>\n",
       "      <td>0.078008</td>\n",
       "      <td>0.127267</td>\n",
       "      <td>0.105269</td>\n",
       "      <td>0.100929</td>\n",
       "      <td>0.000000</td>\n",
       "      <td>0.000000</td>\n",
       "      <td>1.000000</td>\n",
       "      <td>0.048970</td>\n",
       "      <td>0.067116</td>\n",
       "      <td>0.000000</td>\n",
       "      <td>0.055980</td>\n",
       "      <td>0.0</td>\n",
       "    </tr>\n",
       "    <tr>\n",
       "      <th>dad-anger</th>\n",
       "      <td>0.393465</td>\n",
       "      <td>0.508556</td>\n",
       "      <td>0.497977</td>\n",
       "      <td>0.494254</td>\n",
       "      <td>0.506924</td>\n",
       "      <td>0.303238</td>\n",
       "      <td>0.048970</td>\n",
       "      <td>1.000000</td>\n",
       "      <td>0.394400</td>\n",
       "      <td>0.261294</td>\n",
       "      <td>0.561699</td>\n",
       "      <td>0.0</td>\n",
       "    </tr>\n",
       "    <tr>\n",
       "      <th>dad-fear</th>\n",
       "      <td>0.214657</td>\n",
       "      <td>0.330561</td>\n",
       "      <td>0.300977</td>\n",
       "      <td>0.338697</td>\n",
       "      <td>0.282362</td>\n",
       "      <td>0.223784</td>\n",
       "      <td>0.067116</td>\n",
       "      <td>0.394400</td>\n",
       "      <td>1.000000</td>\n",
       "      <td>0.227891</td>\n",
       "      <td>0.401259</td>\n",
       "      <td>0.0</td>\n",
       "    </tr>\n",
       "    <tr>\n",
       "      <th>mum-disgust</th>\n",
       "      <td>0.296408</td>\n",
       "      <td>0.271628</td>\n",
       "      <td>0.311484</td>\n",
       "      <td>0.318227</td>\n",
       "      <td>0.371451</td>\n",
       "      <td>0.256727</td>\n",
       "      <td>0.000000</td>\n",
       "      <td>0.261294</td>\n",
       "      <td>0.227891</td>\n",
       "      <td>1.000000</td>\n",
       "      <td>0.323134</td>\n",
       "      <td>0.0</td>\n",
       "    </tr>\n",
       "    <tr>\n",
       "      <th>joy</th>\n",
       "      <td>0.585593</td>\n",
       "      <td>0.786317</td>\n",
       "      <td>0.659064</td>\n",
       "      <td>0.663874</td>\n",
       "      <td>0.688562</td>\n",
       "      <td>0.435525</td>\n",
       "      <td>0.055980</td>\n",
       "      <td>0.561699</td>\n",
       "      <td>0.401259</td>\n",
       "      <td>0.323134</td>\n",
       "      <td>1.000000</td>\n",
       "      <td>0.0</td>\n",
       "    </tr>\n",
       "    <tr>\n",
       "      <th>pruebaUser</th>\n",
       "      <td>0.000000</td>\n",
       "      <td>0.000000</td>\n",
       "      <td>0.000000</td>\n",
       "      <td>0.000000</td>\n",
       "      <td>0.000000</td>\n",
       "      <td>0.000000</td>\n",
       "      <td>0.000000</td>\n",
       "      <td>0.000000</td>\n",
       "      <td>0.000000</td>\n",
       "      <td>0.000000</td>\n",
       "      <td>0.000000</td>\n",
       "      <td>1.0</td>\n",
       "    </tr>\n",
       "  </tbody>\n",
       "</table>\n",
       "</div>"
      ],
      "text/plain": [
       "                  dad   sadness   disgust     riley     anger  mum-sadness  \\\n",
       "dad          1.000000  0.546030  0.540336  0.579998  0.581523     0.334417   \n",
       "sadness      0.546030  1.000000  0.620563  0.667941  0.684077     0.387976   \n",
       "disgust      0.540336  0.620563  1.000000  0.547174  0.627021     0.354343   \n",
       "riley        0.579998  0.667941  0.547174  1.000000  0.586647     0.395290   \n",
       "anger        0.581523  0.684077  0.627021  0.586647  1.000000     0.410169   \n",
       "mum-sadness  0.334417  0.387976  0.354343  0.395290  0.410169     1.000000   \n",
       "mum-fear     0.078008  0.127267  0.105269  0.100929  0.000000     0.000000   \n",
       "dad-anger    0.393465  0.508556  0.497977  0.494254  0.506924     0.303238   \n",
       "dad-fear     0.214657  0.330561  0.300977  0.338697  0.282362     0.223784   \n",
       "mum-disgust  0.296408  0.271628  0.311484  0.318227  0.371451     0.256727   \n",
       "joy          0.585593  0.786317  0.659064  0.663874  0.688562     0.435525   \n",
       "pruebaUser   0.000000  0.000000  0.000000  0.000000  0.000000     0.000000   \n",
       "\n",
       "             mum-fear  dad-anger  dad-fear  mum-disgust       joy  pruebaUser  \n",
       "dad          0.078008   0.393465  0.214657     0.296408  0.585593         0.0  \n",
       "sadness      0.127267   0.508556  0.330561     0.271628  0.786317         0.0  \n",
       "disgust      0.105269   0.497977  0.300977     0.311484  0.659064         0.0  \n",
       "riley        0.100929   0.494254  0.338697     0.318227  0.663874         0.0  \n",
       "anger        0.000000   0.506924  0.282362     0.371451  0.688562         0.0  \n",
       "mum-sadness  0.000000   0.303238  0.223784     0.256727  0.435525         0.0  \n",
       "mum-fear     1.000000   0.048970  0.067116     0.000000  0.055980         0.0  \n",
       "dad-anger    0.048970   1.000000  0.394400     0.261294  0.561699         0.0  \n",
       "dad-fear     0.067116   0.394400  1.000000     0.227891  0.401259         0.0  \n",
       "mum-disgust  0.000000   0.261294  0.227891     1.000000  0.323134         0.0  \n",
       "joy          0.055980   0.561699  0.401259     0.323134  1.000000         0.0  \n",
       "pruebaUser   0.000000   0.000000  0.000000     0.000000  0.000000         1.0  "
      ]
     },
     "metadata": {},
     "output_type": "display_data"
    },
    {
     "data": {
      "image/png": "[encoded data removed]",
      "text/plain": [
       "<Figure size 1080x720 with 2 Axes>"
      ]
     },
     "metadata": {
      "needs_background": "light"
     },
     "output_type": "display_data"
    }
   ],
   "source": [
    "sim_df = pd.DataFrame(similarity_matrix, columns=big_dict.keys(), index=big_dict.keys())\n",
    "display(sim_df)\n",
    "fig, ax = plt.subplots(figsize=(15,10)) \n",
    "sns.heatmap(sim_df,annot=True, ax=ax);"
   ]
  },
  {
   "cell_type": "markdown",
   "metadata": {},
   "source": [
    "### Recomendación:"
   ]
  },
  {
   "cell_type": "markdown",
   "metadata": {},
   "source": [
    "A continuación se ven de mayor a menos los personajes se recomendarían a 'joy':"
   ]
  },
  {
   "cell_type": "code",
   "execution_count": 8,
   "metadata": {},
   "outputs": [
    {
     "data": {
      "text/plain": [
       "Index(['joy', 'sadness', 'anger', 'riley', 'disgust', 'dad-anger',\n",
       "       'mum-sadness', 'dad-fear', 'mum-disgust', 'mum-fear', 'pruebaUser'],\n",
       "      dtype='object')"
      ]
     },
     "execution_count": 8,
     "metadata": {},
     "output_type": "execute_result"
    }
   ],
   "source": [
    "ranking = (pd.DataFrame(sim_df['joy'][1:].sort_values(ascending = False))).index\n",
    "ranking\n"
   ]
  },
  {
   "cell_type": "markdown",
   "metadata": {},
   "source": [
    "Hay que verificar con cuál de esos no ha mantenido conversación, y ése será el recomendado:"
   ]
  },
  {
   "cell_type": "code",
   "execution_count": 9,
   "metadata": {},
   "outputs": [],
   "source": [
    "from pymongo import MongoClient"
   ]
  },
  {
   "cell_type": "code",
   "execution_count": 10,
   "metadata": {},
   "outputs": [],
   "source": [
    "client = MongoClient(\"mongodb://localhost:27017/api_db\")\n",
    "db = client.get_database()\n",
    "coll_users = db['users']\n",
    "coll_scenes = db['scenes']\n",
    "coll_dialogues = db['dialogues']"
   ]
  },
  {
   "cell_type": "markdown",
   "metadata": {},
   "source": [
    "Con quién ha hablado? con esta lista compararemos las recomendaciones, y los que no hayan hablar con joy se recomiendan:"
   ]
  },
  {
   "cell_type": "code",
   "execution_count": 16,
   "metadata": {},
   "outputs": [
    {
     "data": {
      "text/plain": [
       "['dad', 'dad-fear', 'dad-anger', 'anger']"
      ]
     },
     "execution_count": 16,
     "metadata": {},
     "output_type": "execute_result"
    }
   ],
   "source": [
    "query = {'$and': [{'userNames': {'$eq':'dad-anger'}},{'sceneID':{'$ne': 0}}]}\n",
    "with_character = list(coll_scenes.find(query,{'_id':0,'userNames':1}))\n",
    "comunes = []\n",
    "for e in with_character:\n",
    "    comunes.append(e['userNames'])\n",
    "comunes = list(set([e for b in comunes for e in b]))\n",
    "comunes"
   ]
  },
  {
   "cell_type": "code",
   "execution_count": 17,
   "metadata": {},
   "outputs": [
    {
     "name": "stdout",
     "output_type": "stream",
     "text": [
      "Recomendamos a joy\n"
     ]
    }
   ],
   "source": [
    "for e in ranking:\n",
    "    if e not in comunes:\n",
    "        print(f'Recomendamos a {e}')\n",
    "        break\n",
    "    "
   ]
  },
  {
   "cell_type": "markdown",
   "metadata": {},
   "source": [
    "---------------------\n",
    "## Prueba con la API:"
   ]
  },
  {
   "cell_type": "code",
   "execution_count": 13,
   "metadata": {},
   "outputs": [],
   "source": [
    "import requests"
   ]
  },
  {
   "cell_type": "code",
   "execution_count": 18,
   "metadata": {},
   "outputs": [
    {
     "data": {
      "text/plain": [
       "'Recomendamos a joy'"
      ]
     },
     "execution_count": 18,
     "metadata": {},
     "output_type": "execute_result"
    }
   ],
   "source": [
    "urlName = \"http://localhost:2020/recommended/dad-anger\"\n",
    "requests.get(urlName).text"
   ]
  },
  {
   "cell_type": "code",
   "execution_count": 19,
   "metadata": {},
   "outputs": [
    {
     "data": {
      "text/plain": [
       "'Recomendamos a dad-anger'"
      ]
     },
     "execution_count": 19,
     "metadata": {},
     "output_type": "execute_result"
    }
   ],
   "source": [
    "urlName = \"http://localhost:2020/recommended/riley\"\n",
    "requests.get(urlName).text"
   ]
  },
  {
   "cell_type": "code",
   "execution_count": null,
   "metadata": {},
   "outputs": [],
   "source": []
  },
  {
   "cell_type": "code",
   "execution_count": null,
   "metadata": {},
   "outputs": [],
   "source": []
  }
 ],
 "metadata": {
  "kernelspec": {
   "display_name": "Python 3",
   "language": "python",
   "name": "python3"
  },
  "language_info": {
   "codemirror_mode": {
    "name": "ipython",
    "version": 3
   },
   "file_extension": ".py",
   "mimetype": "text/x-python",
   "name": "python",
   "nbconvert_exporter": "python",
   "pygments_lexer": "ipython3",
   "version": "3.7.6"
  }
 },
 "nbformat": 4,
 "nbformat_minor": 4
}
